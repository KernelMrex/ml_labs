{
 "cells": [
  {
   "metadata": {},
   "cell_type": "markdown",
   "source": "Проверяем версию питона из виртуального окружения",
   "id": "87671cc497f05abb"
  },
  {
   "cell_type": "code",
   "id": "initial_id",
   "metadata": {
    "collapsed": true,
    "ExecuteTime": {
     "end_time": "2025-05-16T00:15:26.760350Z",
     "start_time": "2025-05-16T00:15:26.636888Z"
    }
   },
   "source": "!python --version",
   "outputs": [
    {
     "name": "stdout",
     "output_type": "stream",
     "text": [
      "Python 3.9.6\r\n"
     ]
    }
   ],
   "execution_count": 1
  },
  {
   "metadata": {},
   "cell_type": "markdown",
   "source": "Устанавливаем зависимости",
   "id": "ff97f92c8a9b9ece"
  },
  {
   "metadata": {
    "ExecuteTime": {
     "end_time": "2025-05-16T00:15:04.022282Z",
     "start_time": "2025-05-16T00:14:18.852305Z"
    }
   },
   "cell_type": "code",
   "source": "!pip install torch==2.1.0 pytorch-lightning==2.1.3 pytorch-forecasting==1.3.0 pytorch-tabular --force-reinstall",
   "id": "e6a991f6cee0ef26",
   "outputs": [
    {
     "name": "stdout",
     "output_type": "stream",
     "text": [
      "Collecting torch==2.1.0\r\n",
      "  Obtaining dependency information for torch==2.1.0 from https://files.pythonhosted.org/packages/4c/53/f1e58e147df8601c963df4b15045631f7e3d3caa5973bdf4e54a5cf6834e/torch-2.1.0-cp39-none-macosx_11_0_arm64.whl.metadata\r\n",
      "  Downloading torch-2.1.0-cp39-none-macosx_11_0_arm64.whl.metadata (24 kB)\r\n",
      "Collecting pytorch-lightning==2.1.3\r\n",
      "  Obtaining dependency information for pytorch-lightning==2.1.3 from https://files.pythonhosted.org/packages/f6/95/a662bd12b255ee3b59c975277c67398410b5810ee72ff11e34134e10cc9a/pytorch_lightning-2.1.3-py3-none-any.whl.metadata\r\n",
      "  Using cached pytorch_lightning-2.1.3-py3-none-any.whl.metadata (21 kB)\r\n",
      "Collecting pytorch-forecasting==1.3.0\r\n",
      "  Obtaining dependency information for pytorch-forecasting==1.3.0 from https://files.pythonhosted.org/packages/29/9c/112553c4404014b5931b014cfe475cb4c4b96adf0dc23a1ac1f3b9337cba/pytorch_forecasting-1.3.0-py3-none-any.whl.metadata\r\n",
      "  Using cached pytorch_forecasting-1.3.0-py3-none-any.whl.metadata (13 kB)\r\n",
      "Collecting pytorch-tabular\r\n",
      "  Obtaining dependency information for pytorch-tabular from https://files.pythonhosted.org/packages/2c/b2/dfd199d03a351f9558dbdb0876444d955b7fe2231b9e82acc55fee1c29fb/pytorch_tabular-1.1.1-py2.py3-none-any.whl.metadata\r\n",
      "  Using cached pytorch_tabular-1.1.1-py2.py3-none-any.whl.metadata (24 kB)\r\n",
      "Collecting filelock (from torch==2.1.0)\r\n",
      "  Obtaining dependency information for filelock from https://files.pythonhosted.org/packages/4d/36/2a115987e2d8c300a974597416d9de88f2444426de9571f4b59b2cca3acc/filelock-3.18.0-py3-none-any.whl.metadata\r\n",
      "  Using cached filelock-3.18.0-py3-none-any.whl.metadata (2.9 kB)\r\n",
      "Collecting typing-extensions (from torch==2.1.0)\r\n",
      "  Obtaining dependency information for typing-extensions from https://files.pythonhosted.org/packages/8b/54/b1ae86c0973cc6f0210b53d508ca3641fb6d0c56823f288d108bc7ab3cc8/typing_extensions-4.13.2-py3-none-any.whl.metadata\r\n",
      "  Using cached typing_extensions-4.13.2-py3-none-any.whl.metadata (3.0 kB)\r\n",
      "Collecting sympy (from torch==2.1.0)\r\n",
      "  Obtaining dependency information for sympy from https://files.pythonhosted.org/packages/a2/09/77d55d46fd61b4a135c444fc97158ef34a095e5681d0a6c10b75bf356191/sympy-1.14.0-py3-none-any.whl.metadata\r\n",
      "  Using cached sympy-1.14.0-py3-none-any.whl.metadata (12 kB)\r\n",
      "Collecting networkx (from torch==2.1.0)\r\n",
      "  Obtaining dependency information for networkx from https://files.pythonhosted.org/packages/d5/f0/8fbc882ca80cf077f1b246c0e3c3465f7f415439bdea6b899f6b19f61f70/networkx-3.2.1-py3-none-any.whl.metadata\r\n",
      "  Using cached networkx-3.2.1-py3-none-any.whl.metadata (5.2 kB)\r\n",
      "Collecting jinja2 (from torch==2.1.0)\r\n",
      "  Obtaining dependency information for jinja2 from https://files.pythonhosted.org/packages/62/a1/3d680cbfd5f4b8f15abc1d571870c5fc3e594bb582bc3b64ea099db13e56/jinja2-3.1.6-py3-none-any.whl.metadata\r\n",
      "  Using cached jinja2-3.1.6-py3-none-any.whl.metadata (2.9 kB)\r\n",
      "Collecting fsspec (from torch==2.1.0)\r\n",
      "  Obtaining dependency information for fsspec from https://files.pythonhosted.org/packages/44/4b/e0cfc1a6f17e990f3e64b7d941ddc4acdc7b19d6edd51abf495f32b1a9e4/fsspec-2025.3.2-py3-none-any.whl.metadata\r\n",
      "  Using cached fsspec-2025.3.2-py3-none-any.whl.metadata (11 kB)\r\n",
      "Collecting numpy>=1.17.2 (from pytorch-lightning==2.1.3)\r\n",
      "  Obtaining dependency information for numpy>=1.17.2 from https://files.pythonhosted.org/packages/96/ff/06d1aa3eeb1c614eda245c1ba4fb88c483bee6520d361641331872ac4b82/numpy-2.0.2-cp39-cp39-macosx_14_0_arm64.whl.metadata\r\n",
      "  Using cached numpy-2.0.2-cp39-cp39-macosx_14_0_arm64.whl.metadata (60 kB)\r\n",
      "Collecting tqdm>=4.57.0 (from pytorch-lightning==2.1.3)\r\n",
      "  Obtaining dependency information for tqdm>=4.57.0 from https://files.pythonhosted.org/packages/d0/30/dc54f88dd4a2b5dc8a0279bdd7270e735851848b762aeb1c1184ed1f6b14/tqdm-4.67.1-py3-none-any.whl.metadata\r\n",
      "  Using cached tqdm-4.67.1-py3-none-any.whl.metadata (57 kB)\r\n",
      "Collecting PyYAML>=5.4 (from pytorch-lightning==2.1.3)\r\n",
      "  Obtaining dependency information for PyYAML>=5.4 from https://files.pythonhosted.org/packages/0a/02/6ec546cd45143fdf9840b2c6be8d875116a64076218b61d68e12548e5839/PyYAML-6.0.2-cp39-cp39-macosx_11_0_arm64.whl.metadata\r\n",
      "  Using cached PyYAML-6.0.2-cp39-cp39-macosx_11_0_arm64.whl.metadata (2.1 kB)\r\n",
      "Collecting torchmetrics>=0.7.0 (from pytorch-lightning==2.1.3)\r\n",
      "  Obtaining dependency information for torchmetrics>=0.7.0 from https://files.pythonhosted.org/packages/e0/ee/4d0a7213a6f412afb3483031009a3b970dd7bed3be24de95ab04fba1c05a/torchmetrics-1.7.1-py3-none-any.whl.metadata\r\n",
      "  Using cached torchmetrics-1.7.1-py3-none-any.whl.metadata (21 kB)\r\n",
      "Collecting packaging>=20.0 (from pytorch-lightning==2.1.3)\r\n",
      "  Obtaining dependency information for packaging>=20.0 from https://files.pythonhosted.org/packages/20/12/38679034af332785aac8774540895e234f4d07f7545804097de4b666afd8/packaging-25.0-py3-none-any.whl.metadata\r\n",
      "  Using cached packaging-25.0-py3-none-any.whl.metadata (3.3 kB)\r\n",
      "Collecting lightning-utilities>=0.8.0 (from pytorch-lightning==2.1.3)\r\n",
      "  Obtaining dependency information for lightning-utilities>=0.8.0 from https://files.pythonhosted.org/packages/1a/c1/31b3184cba7b257a4a3b5ca5b88b9204ccb7aa02fe3c992280899293ed54/lightning_utilities-0.14.3-py3-none-any.whl.metadata\r\n",
      "  Using cached lightning_utilities-0.14.3-py3-none-any.whl.metadata (5.6 kB)\r\n",
      "Collecting lightning<3.0.0,>=2.0.0 (from pytorch-forecasting==1.3.0)\r\n",
      "  Obtaining dependency information for lightning<3.0.0,>=2.0.0 from https://files.pythonhosted.org/packages/9e/1b/67201d693a575e8a086831710f33e697fab66166223f792e459ef2b84934/lightning-2.5.1.post0-py3-none-any.whl.metadata\r\n",
      "  Using cached lightning-2.5.1.post0-py3-none-any.whl.metadata (39 kB)\r\n",
      "Collecting scipy<2.0,>=1.8 (from pytorch-forecasting==1.3.0)\r\n",
      "  Obtaining dependency information for scipy<2.0,>=1.8 from https://files.pythonhosted.org/packages/5c/c0/e71b94b20ccf9effb38d7147c0064c08c622309fd487b1b677771a97d18c/scipy-1.13.1-cp39-cp39-macosx_12_0_arm64.whl.metadata\r\n",
      "  Using cached scipy-1.13.1-cp39-cp39-macosx_12_0_arm64.whl.metadata (60 kB)\r\n",
      "Collecting pandas<3.0.0,>=1.3.0 (from pytorch-forecasting==1.3.0)\r\n",
      "  Obtaining dependency information for pandas<3.0.0,>=1.3.0 from https://files.pythonhosted.org/packages/9c/b9/5cead4f63b6d31bdefeb21a679bc5a7f4aaf262ca7e07e2bc1c341b68470/pandas-2.2.3-cp39-cp39-macosx_11_0_arm64.whl.metadata\r\n",
      "  Using cached pandas-2.2.3-cp39-cp39-macosx_11_0_arm64.whl.metadata (89 kB)\r\n",
      "Collecting scikit-learn<2.0,>=1.2 (from pytorch-forecasting==1.3.0)\r\n",
      "  Obtaining dependency information for scikit-learn<2.0,>=1.2 from https://files.pythonhosted.org/packages/83/74/f64379a4ed5879d9db744fe37cfe1978c07c66684d2439c3060d19a536d8/scikit_learn-1.6.1-cp39-cp39-macosx_12_0_arm64.whl.metadata\r\n",
      "  Using cached scikit_learn-1.6.1-cp39-cp39-macosx_12_0_arm64.whl.metadata (31 kB)\r\n",
      "Collecting numpy>=1.17.2 (from pytorch-lightning==2.1.3)\r\n",
      "  Obtaining dependency information for numpy>=1.17.2 from https://files.pythonhosted.org/packages/ae/8c/ab03a7c25741f9ebc92684a20125fbc9fc1b8e1e700beb9197d750fdff88/numpy-1.26.4-cp39-cp39-macosx_11_0_arm64.whl.metadata\r\n",
      "  Using cached numpy-1.26.4-cp39-cp39-macosx_11_0_arm64.whl.metadata (61 kB)\r\n",
      "Collecting omegaconf>=2.3.0 (from pytorch-tabular)\r\n",
      "  Obtaining dependency information for omegaconf>=2.3.0 from https://files.pythonhosted.org/packages/e3/94/1843518e420fa3ed6919835845df698c7e27e183cb997394e4a670973a65/omegaconf-2.3.0-py3-none-any.whl.metadata\r\n",
      "  Using cached omegaconf-2.3.0-py3-none-any.whl.metadata (3.9 kB)\r\n",
      "Collecting torchmetrics>=0.7.0 (from pytorch-lightning==2.1.3)\r\n",
      "  Obtaining dependency information for torchmetrics>=0.7.0 from https://files.pythonhosted.org/packages/6d/5f/61483e589f87c3709236ce6ee5d44ffeadec12d04b1b0ae3e0900667edf5/torchmetrics-1.5.2-py3-none-any.whl.metadata\r\n",
      "  Using cached torchmetrics-1.5.2-py3-none-any.whl.metadata (20 kB)\r\n",
      "Collecting tensorboard!=2.5.0,>2.2.0 (from pytorch-tabular)\r\n",
      "  Obtaining dependency information for tensorboard!=2.5.0,>2.2.0 from https://files.pythonhosted.org/packages/5d/12/4f70e8e2ba0dbe72ea978429d8530b0333f0ed2140cc571a48802878ef99/tensorboard-2.19.0-py3-none-any.whl.metadata\r\n",
      "  Using cached tensorboard-2.19.0-py3-none-any.whl.metadata (1.8 kB)\r\n",
      "Collecting protobuf<5.29.0,>=3.20.0 (from pytorch-tabular)\r\n",
      "  Obtaining dependency information for protobuf<5.29.0,>=3.20.0 from https://files.pythonhosted.org/packages/1c/f2/baf397f3dd1d3e4af7e3f5a0382b868d25ac068eefe1ebde05132333436c/protobuf-5.28.3-cp38-abi3-macosx_10_9_universal2.whl.metadata\r\n",
      "  Using cached protobuf-5.28.3-cp38-abi3-macosx_10_9_universal2.whl.metadata (592 bytes)\r\n",
      "Collecting pytorch-tabnet==4.1 (from pytorch-tabular)\r\n",
      "  Obtaining dependency information for pytorch-tabnet==4.1 from https://files.pythonhosted.org/packages/0f/92/ed98b89b7cf5661656daa4cc88e578f712eb5eae41b8f46a56c1ece3a895/pytorch_tabnet-4.1.0-py3-none-any.whl.metadata\r\n",
      "  Using cached pytorch_tabnet-4.1.0-py3-none-any.whl.metadata (15 kB)\r\n",
      "Collecting matplotlib>3.1 (from pytorch-tabular)\r\n",
      "  Obtaining dependency information for matplotlib>3.1 from https://files.pythonhosted.org/packages/da/36/236fbd868b6c91309a5206bd90c3f881f4f44b2d997cd1d6239ef652f878/matplotlib-3.9.4-cp39-cp39-macosx_11_0_arm64.whl.metadata\r\n",
      "  Using cached matplotlib-3.9.4-cp39-cp39-macosx_11_0_arm64.whl.metadata (11 kB)\r\n",
      "Collecting ipywidgets (from pytorch-tabular)\r\n",
      "  Obtaining dependency information for ipywidgets from https://files.pythonhosted.org/packages/58/6a/9166369a2f092bd286d24e6307de555d63616e8ddb373ebad2b5635ca4cd/ipywidgets-8.1.7-py3-none-any.whl.metadata\r\n",
      "  Using cached ipywidgets-8.1.7-py3-none-any.whl.metadata (2.4 kB)\r\n",
      "Collecting einops<0.8.0,>=0.6.0 (from pytorch-tabular)\r\n",
      "  Obtaining dependency information for einops<0.8.0,>=0.6.0 from https://files.pythonhosted.org/packages/29/0b/2d1c0ebfd092e25935b86509a9a817159212d82aa43d7fb07eca4eeff2c2/einops-0.7.0-py3-none-any.whl.metadata\r\n",
      "  Using cached einops-0.7.0-py3-none-any.whl.metadata (13 kB)\r\n",
      "Collecting rich>=11.0.0 (from pytorch-tabular)\r\n",
      "  Obtaining dependency information for rich>=11.0.0 from https://files.pythonhosted.org/packages/0d/9b/63f4c7ebc259242c89b3acafdb37b41d1185c07ff0011164674e9076b491/rich-14.0.0-py3-none-any.whl.metadata\r\n",
      "  Using cached rich-14.0.0-py3-none-any.whl.metadata (18 kB)\r\n",
      "Collecting aiohttp!=4.0.0a0,!=4.0.0a1 (from fsspec->torch==2.1.0)\r\n",
      "  Obtaining dependency information for aiohttp!=4.0.0a0,!=4.0.0a1 from https://files.pythonhosted.org/packages/0e/79/3b3f5b29e1c7313569cf86bc6a08484de700a8af5b7c98daa2e25cfe3f31/aiohttp-3.11.18-cp39-cp39-macosx_11_0_arm64.whl.metadata\r\n",
      "  Using cached aiohttp-3.11.18-cp39-cp39-macosx_11_0_arm64.whl.metadata (7.7 kB)\r\n",
      "Collecting packaging>=20.0 (from pytorch-lightning==2.1.3)\r\n",
      "  Obtaining dependency information for packaging>=20.0 from https://files.pythonhosted.org/packages/88/ef/eb23f262cca3c0c4eb7ab1933c3b1f03d021f2c48f54763065b6f0e321be/packaging-24.2-py3-none-any.whl.metadata\r\n",
      "  Using cached packaging-24.2-py3-none-any.whl.metadata (3.2 kB)\r\n",
      "Collecting setuptools (from lightning-utilities>=0.8.0->pytorch-lightning==2.1.3)\r\n",
      "  Obtaining dependency information for setuptools from https://files.pythonhosted.org/packages/a1/18/0e835c3a557dc5faffc8f91092f62fc337c1dab1066715842e7a4b318ec4/setuptools-80.7.1-py3-none-any.whl.metadata\r\n",
      "  Downloading setuptools-80.7.1-py3-none-any.whl.metadata (6.6 kB)\r\n",
      "Collecting contourpy>=1.0.1 (from matplotlib>3.1->pytorch-tabular)\r\n",
      "  Obtaining dependency information for contourpy>=1.0.1 from https://files.pythonhosted.org/packages/ec/22/19f5b948367ab5260fb41d842c7a78dae645603881ea6bc39738bcfcabf6/contourpy-1.3.0-cp39-cp39-macosx_11_0_arm64.whl.metadata\r\n",
      "  Using cached contourpy-1.3.0-cp39-cp39-macosx_11_0_arm64.whl.metadata (5.4 kB)\r\n",
      "Collecting cycler>=0.10 (from matplotlib>3.1->pytorch-tabular)\r\n",
      "  Obtaining dependency information for cycler>=0.10 from https://files.pythonhosted.org/packages/e7/05/c19819d5e3d95294a6f5947fb9b9629efb316b96de511b418c53d245aae6/cycler-0.12.1-py3-none-any.whl.metadata\r\n",
      "  Using cached cycler-0.12.1-py3-none-any.whl.metadata (3.8 kB)\r\n",
      "Collecting fonttools>=4.22.0 (from matplotlib>3.1->pytorch-tabular)\r\n",
      "  Obtaining dependency information for fonttools>=4.22.0 from https://files.pythonhosted.org/packages/33/86/e77cfccfded6e106daedf705eedc6d81a708c9ec59f59208a02a878a11cd/fonttools-4.58.0-cp39-cp39-macosx_10_9_universal2.whl.metadata\r\n",
      "  Using cached fonttools-4.58.0-cp39-cp39-macosx_10_9_universal2.whl.metadata (104 kB)\r\n",
      "Collecting kiwisolver>=1.3.1 (from matplotlib>3.1->pytorch-tabular)\r\n",
      "  Obtaining dependency information for kiwisolver>=1.3.1 from https://files.pythonhosted.org/packages/8a/be/a6ae58978772f685d48dd2e84460937761c53c4bbd84e42b0336473d9775/kiwisolver-1.4.7-cp39-cp39-macosx_11_0_arm64.whl.metadata\r\n",
      "  Using cached kiwisolver-1.4.7-cp39-cp39-macosx_11_0_arm64.whl.metadata (6.3 kB)\r\n",
      "Collecting pillow>=8 (from matplotlib>3.1->pytorch-tabular)\r\n",
      "  Obtaining dependency information for pillow>=8 from https://files.pythonhosted.org/packages/b6/4d/dcb7a9af3fc1e8653267c38ed622605d9d1793349274b3ef7af06457e257/pillow-11.2.1-cp39-cp39-macosx_11_0_arm64.whl.metadata\r\n",
      "  Using cached pillow-11.2.1-cp39-cp39-macosx_11_0_arm64.whl.metadata (8.9 kB)\r\n",
      "Collecting pyparsing>=2.3.1 (from matplotlib>3.1->pytorch-tabular)\r\n",
      "  Obtaining dependency information for pyparsing>=2.3.1 from https://files.pythonhosted.org/packages/05/e7/df2285f3d08fee213f2d041540fa4fc9ca6c2d44cf36d3a035bf2a8d2bcc/pyparsing-3.2.3-py3-none-any.whl.metadata\r\n",
      "  Using cached pyparsing-3.2.3-py3-none-any.whl.metadata (5.0 kB)\r\n",
      "Collecting python-dateutil>=2.7 (from matplotlib>3.1->pytorch-tabular)\r\n",
      "  Obtaining dependency information for python-dateutil>=2.7 from https://files.pythonhosted.org/packages/ec/57/56b9bcc3c9c6a792fcbaf139543cee77261f3651ca9da0c93f5c1221264b/python_dateutil-2.9.0.post0-py2.py3-none-any.whl.metadata\r\n",
      "  Using cached python_dateutil-2.9.0.post0-py2.py3-none-any.whl.metadata (8.4 kB)\r\n",
      "Collecting importlib-resources>=3.2.0 (from matplotlib>3.1->pytorch-tabular)\r\n",
      "  Obtaining dependency information for importlib-resources>=3.2.0 from https://files.pythonhosted.org/packages/a4/ed/1f1afb2e9e7f38a545d628f864d562a5ae64fe6f7a10e28ffb9b185b4e89/importlib_resources-6.5.2-py3-none-any.whl.metadata\r\n",
      "  Using cached importlib_resources-6.5.2-py3-none-any.whl.metadata (3.9 kB)\r\n",
      "Collecting antlr4-python3-runtime==4.9.* (from omegaconf>=2.3.0->pytorch-tabular)\r\n",
      "  Using cached antlr4_python3_runtime-4.9.3-py3-none-any.whl\r\n",
      "Collecting pytz>=2020.1 (from pandas<3.0.0,>=1.3.0->pytorch-forecasting==1.3.0)\r\n",
      "  Obtaining dependency information for pytz>=2020.1 from https://files.pythonhosted.org/packages/81/c4/34e93fe5f5429d7570ec1fa436f1986fb1f00c3e0f43a589fe2bbcd22c3f/pytz-2025.2-py2.py3-none-any.whl.metadata\r\n",
      "  Using cached pytz-2025.2-py2.py3-none-any.whl.metadata (22 kB)\r\n",
      "Collecting tzdata>=2022.7 (from pandas<3.0.0,>=1.3.0->pytorch-forecasting==1.3.0)\r\n",
      "  Obtaining dependency information for tzdata>=2022.7 from https://files.pythonhosted.org/packages/5c/23/c7abc0ca0a1526a0774eca151daeb8de62ec457e77262b66b359c3c7679e/tzdata-2025.2-py2.py3-none-any.whl.metadata\r\n",
      "  Using cached tzdata-2025.2-py2.py3-none-any.whl.metadata (1.4 kB)\r\n",
      "Collecting markdown-it-py>=2.2.0 (from rich>=11.0.0->pytorch-tabular)\r\n",
      "  Obtaining dependency information for markdown-it-py>=2.2.0 from https://files.pythonhosted.org/packages/42/d7/1ec15b46af6af88f19b8e5ffea08fa375d433c998b8a7639e76935c14f1f/markdown_it_py-3.0.0-py3-none-any.whl.metadata\r\n",
      "  Using cached markdown_it_py-3.0.0-py3-none-any.whl.metadata (6.9 kB)\r\n",
      "Collecting pygments<3.0.0,>=2.13.0 (from rich>=11.0.0->pytorch-tabular)\r\n",
      "  Obtaining dependency information for pygments<3.0.0,>=2.13.0 from https://files.pythonhosted.org/packages/8a/0b/9fcc47d19c48b59121088dd6da2488a49d5f72dacf8262e2790a1d2c7d15/pygments-2.19.1-py3-none-any.whl.metadata\r\n",
      "  Using cached pygments-2.19.1-py3-none-any.whl.metadata (2.5 kB)\r\n",
      "Collecting joblib>=1.2.0 (from scikit-learn<2.0,>=1.2->pytorch-forecasting==1.3.0)\r\n",
      "  Obtaining dependency information for joblib>=1.2.0 from https://files.pythonhosted.org/packages/da/d3/13ee227a148af1c693654932b8b0b02ed64af5e1f7406d56b088b57574cd/joblib-1.5.0-py3-none-any.whl.metadata\r\n",
      "  Using cached joblib-1.5.0-py3-none-any.whl.metadata (5.6 kB)\r\n",
      "Collecting threadpoolctl>=3.1.0 (from scikit-learn<2.0,>=1.2->pytorch-forecasting==1.3.0)\r\n",
      "  Obtaining dependency information for threadpoolctl>=3.1.0 from https://files.pythonhosted.org/packages/32/d5/f9a850d79b0851d1d4ef6456097579a9005b31fea68726a4ae5f2d82ddd9/threadpoolctl-3.6.0-py3-none-any.whl.metadata\r\n",
      "  Using cached threadpoolctl-3.6.0-py3-none-any.whl.metadata (13 kB)\r\n",
      "Collecting absl-py>=0.4 (from tensorboard!=2.5.0,>2.2.0->pytorch-tabular)\r\n",
      "  Obtaining dependency information for absl-py>=0.4 from https://files.pythonhosted.org/packages/f6/d4/349f7f4bd5ea92dab34f5bb0fe31775ef6c311427a14d5a5b31ecb442341/absl_py-2.2.2-py3-none-any.whl.metadata\r\n",
      "  Using cached absl_py-2.2.2-py3-none-any.whl.metadata (2.6 kB)\r\n",
      "Collecting grpcio>=1.48.2 (from tensorboard!=2.5.0,>2.2.0->pytorch-tabular)\r\n",
      "  Obtaining dependency information for grpcio>=1.48.2 from https://files.pythonhosted.org/packages/f6/5e/4970fb231e57aad8f41682292343551f58fec5c7a07e261294def3cb8bb6/grpcio-1.71.0-cp39-cp39-macosx_10_14_universal2.whl.metadata\r\n",
      "  Using cached grpcio-1.71.0-cp39-cp39-macosx_10_14_universal2.whl.metadata (3.8 kB)\r\n",
      "Collecting markdown>=2.6.8 (from tensorboard!=2.5.0,>2.2.0->pytorch-tabular)\r\n",
      "  Obtaining dependency information for markdown>=2.6.8 from https://files.pythonhosted.org/packages/51/3f/afe76f8e2246ffbc867440cbcf90525264df0e658f8a5ca1f872b3f6192a/markdown-3.8-py3-none-any.whl.metadata\r\n",
      "  Using cached markdown-3.8-py3-none-any.whl.metadata (5.1 kB)\r\n",
      "Collecting six>1.9 (from tensorboard!=2.5.0,>2.2.0->pytorch-tabular)\r\n",
      "  Obtaining dependency information for six>1.9 from https://files.pythonhosted.org/packages/b7/ce/149a00dd41f10bc29e5921b496af8b574d8413afcd5e30dfa0ed46c2cc5e/six-1.17.0-py2.py3-none-any.whl.metadata\r\n",
      "  Using cached six-1.17.0-py2.py3-none-any.whl.metadata (1.7 kB)\r\n",
      "Collecting tensorboard-data-server<0.8.0,>=0.7.0 (from tensorboard!=2.5.0,>2.2.0->pytorch-tabular)\r\n",
      "  Obtaining dependency information for tensorboard-data-server<0.8.0,>=0.7.0 from https://files.pythonhosted.org/packages/7a/13/e503968fefabd4c6b2650af21e110aa8466fe21432cd7c43a84577a89438/tensorboard_data_server-0.7.2-py3-none-any.whl.metadata\r\n",
      "  Using cached tensorboard_data_server-0.7.2-py3-none-any.whl.metadata (1.1 kB)\r\n",
      "Collecting werkzeug>=1.0.1 (from tensorboard!=2.5.0,>2.2.0->pytorch-tabular)\r\n",
      "  Obtaining dependency information for werkzeug>=1.0.1 from https://files.pythonhosted.org/packages/52/24/ab44c871b0f07f491e5d2ad12c9bd7358e527510618cb1b803a88e986db1/werkzeug-3.1.3-py3-none-any.whl.metadata\r\n",
      "  Using cached werkzeug-3.1.3-py3-none-any.whl.metadata (3.7 kB)\r\n",
      "Collecting comm>=0.1.3 (from ipywidgets->pytorch-tabular)\r\n",
      "  Obtaining dependency information for comm>=0.1.3 from https://files.pythonhosted.org/packages/e6/75/49e5bfe642f71f272236b5b2d2691cf915a7283cc0ceda56357b61daa538/comm-0.2.2-py3-none-any.whl.metadata\r\n",
      "  Using cached comm-0.2.2-py3-none-any.whl.metadata (3.7 kB)\r\n",
      "Collecting ipython>=6.1.0 (from ipywidgets->pytorch-tabular)\r\n",
      "  Obtaining dependency information for ipython>=6.1.0 from https://files.pythonhosted.org/packages/47/6b/d9fdcdef2eb6a23f391251fde8781c38d42acd82abe84d054cb74f7863b0/ipython-8.18.1-py3-none-any.whl.metadata\r\n",
      "  Using cached ipython-8.18.1-py3-none-any.whl.metadata (6.0 kB)\r\n",
      "Collecting traitlets>=4.3.1 (from ipywidgets->pytorch-tabular)\r\n",
      "  Obtaining dependency information for traitlets>=4.3.1 from https://files.pythonhosted.org/packages/00/c0/8f5d070730d7836adc9c9b6408dec68c6ced86b304a9b26a14df072a6e8c/traitlets-5.14.3-py3-none-any.whl.metadata\r\n",
      "  Using cached traitlets-5.14.3-py3-none-any.whl.metadata (10 kB)\r\n",
      "Collecting widgetsnbextension~=4.0.14 (from ipywidgets->pytorch-tabular)\r\n",
      "  Obtaining dependency information for widgetsnbextension~=4.0.14 from https://files.pythonhosted.org/packages/ca/51/5447876806d1088a0f8f71e16542bf350918128d0a69437df26047c8e46f/widgetsnbextension-4.0.14-py3-none-any.whl.metadata\r\n",
      "  Using cached widgetsnbextension-4.0.14-py3-none-any.whl.metadata (1.6 kB)\r\n",
      "Collecting jupyterlab_widgets~=3.0.15 (from ipywidgets->pytorch-tabular)\r\n",
      "  Obtaining dependency information for jupyterlab_widgets~=3.0.15 from https://files.pythonhosted.org/packages/43/6a/ca128561b22b60bd5a0c4ea26649e68c8556b82bc70a0c396eebc977fe86/jupyterlab_widgets-3.0.15-py3-none-any.whl.metadata\r\n",
      "  Using cached jupyterlab_widgets-3.0.15-py3-none-any.whl.metadata (20 kB)\r\n",
      "Collecting MarkupSafe>=2.0 (from jinja2->torch==2.1.0)\r\n",
      "  Obtaining dependency information for MarkupSafe>=2.0 from https://files.pythonhosted.org/packages/4b/c2/fbdbfe48848e7112ab05e627e718e854d20192b674952d9042ebd8c9e5de/MarkupSafe-3.0.2-cp39-cp39-macosx_11_0_arm64.whl.metadata\r\n",
      "  Using cached MarkupSafe-3.0.2-cp39-cp39-macosx_11_0_arm64.whl.metadata (4.0 kB)\r\n",
      "Collecting mpmath<1.4,>=1.1.0 (from sympy->torch==2.1.0)\r\n",
      "  Obtaining dependency information for mpmath<1.4,>=1.1.0 from https://files.pythonhosted.org/packages/43/e3/7d92a15f894aa0c9c4b49b8ee9ac9850d6e63b03c9c32c0367a13ae62209/mpmath-1.3.0-py3-none-any.whl.metadata\r\n",
      "  Using cached mpmath-1.3.0-py3-none-any.whl.metadata (8.6 kB)\r\n",
      "Collecting aiohappyeyeballs>=2.3.0 (from aiohttp!=4.0.0a0,!=4.0.0a1->fsspec->torch==2.1.0)\r\n",
      "  Obtaining dependency information for aiohappyeyeballs>=2.3.0 from https://files.pythonhosted.org/packages/0f/15/5bf3b99495fb160b63f95972b81750f18f7f4e02ad051373b669d17d44f2/aiohappyeyeballs-2.6.1-py3-none-any.whl.metadata\r\n",
      "  Using cached aiohappyeyeballs-2.6.1-py3-none-any.whl.metadata (5.9 kB)\r\n",
      "Collecting aiosignal>=1.1.2 (from aiohttp!=4.0.0a0,!=4.0.0a1->fsspec->torch==2.1.0)\r\n",
      "  Obtaining dependency information for aiosignal>=1.1.2 from https://files.pythonhosted.org/packages/ec/6a/bc7e17a3e87a2985d3e8f4da4cd0f481060eb78fb08596c42be62c90a4d9/aiosignal-1.3.2-py2.py3-none-any.whl.metadata\r\n",
      "  Using cached aiosignal-1.3.2-py2.py3-none-any.whl.metadata (3.8 kB)\r\n",
      "Collecting async-timeout<6.0,>=4.0 (from aiohttp!=4.0.0a0,!=4.0.0a1->fsspec->torch==2.1.0)\r\n",
      "  Obtaining dependency information for async-timeout<6.0,>=4.0 from https://files.pythonhosted.org/packages/fe/ba/e2081de779ca30d473f21f5b30e0e737c438205440784c7dfc81efc2b029/async_timeout-5.0.1-py3-none-any.whl.metadata\r\n",
      "  Using cached async_timeout-5.0.1-py3-none-any.whl.metadata (5.1 kB)\r\n",
      "Collecting attrs>=17.3.0 (from aiohttp!=4.0.0a0,!=4.0.0a1->fsspec->torch==2.1.0)\r\n",
      "  Obtaining dependency information for attrs>=17.3.0 from https://files.pythonhosted.org/packages/77/06/bb80f5f86020c4551da315d78b3ab75e8228f89f0162f2c3a819e407941a/attrs-25.3.0-py3-none-any.whl.metadata\r\n",
      "  Using cached attrs-25.3.0-py3-none-any.whl.metadata (10 kB)\r\n",
      "Collecting frozenlist>=1.1.1 (from aiohttp!=4.0.0a0,!=4.0.0a1->fsspec->torch==2.1.0)\r\n",
      "  Obtaining dependency information for frozenlist>=1.1.1 from https://files.pythonhosted.org/packages/82/63/1275253c9960cb7bd584dd44c6367cd83759c063c807496c4e1d4b5ded4a/frozenlist-1.6.0-cp39-cp39-macosx_11_0_arm64.whl.metadata\r\n",
      "  Using cached frozenlist-1.6.0-cp39-cp39-macosx_11_0_arm64.whl.metadata (16 kB)\r\n",
      "Collecting multidict<7.0,>=4.5 (from aiohttp!=4.0.0a0,!=4.0.0a1->fsspec->torch==2.1.0)\r\n",
      "  Obtaining dependency information for multidict<7.0,>=4.5 from https://files.pythonhosted.org/packages/04/f8/3a7ec724c51ad9c1534ebb0a60020e24c12b1fe4c60a4fdd0c97a3383cf4/multidict-6.4.3-cp39-cp39-macosx_11_0_arm64.whl.metadata\r\n",
      "  Using cached multidict-6.4.3-cp39-cp39-macosx_11_0_arm64.whl.metadata (5.3 kB)\r\n",
      "Collecting propcache>=0.2.0 (from aiohttp!=4.0.0a0,!=4.0.0a1->fsspec->torch==2.1.0)\r\n",
      "  Obtaining dependency information for propcache>=0.2.0 from https://files.pythonhosted.org/packages/f3/e2/88ad1c4c42861dd09b45924e468c42a1beb2c5267cb960b7a9f6af67dd04/propcache-0.3.1-cp39-cp39-macosx_11_0_arm64.whl.metadata\r\n",
      "  Using cached propcache-0.3.1-cp39-cp39-macosx_11_0_arm64.whl.metadata (10 kB)\r\n",
      "Collecting yarl<2.0,>=1.17.0 (from aiohttp!=4.0.0a0,!=4.0.0a1->fsspec->torch==2.1.0)\r\n",
      "  Obtaining dependency information for yarl<2.0,>=1.17.0 from https://files.pythonhosted.org/packages/8c/3e/665501121ba7c712a0f1b58d8ee01d7633096671fbeec4cf3dc4e4357a95/yarl-1.20.0-cp39-cp39-macosx_11_0_arm64.whl.metadata\r\n",
      "  Using cached yarl-1.20.0-cp39-cp39-macosx_11_0_arm64.whl.metadata (72 kB)\r\n",
      "Collecting zipp>=3.1.0 (from importlib-resources>=3.2.0->matplotlib>3.1->pytorch-tabular)\r\n",
      "  Obtaining dependency information for zipp>=3.1.0 from https://files.pythonhosted.org/packages/b7/1a/7e4798e9339adc931158c9d69ecc34f5e6791489d469f5e50ec15e35f458/zipp-3.21.0-py3-none-any.whl.metadata\r\n",
      "  Using cached zipp-3.21.0-py3-none-any.whl.metadata (3.7 kB)\r\n",
      "Collecting decorator (from ipython>=6.1.0->ipywidgets->pytorch-tabular)\r\n",
      "  Obtaining dependency information for decorator from https://files.pythonhosted.org/packages/4e/8c/f3147f5c4b73e7550fe5f9352eaa956ae838d5c51eb58e7a25b9f3e2643b/decorator-5.2.1-py3-none-any.whl.metadata\r\n",
      "  Using cached decorator-5.2.1-py3-none-any.whl.metadata (3.9 kB)\r\n",
      "Collecting jedi>=0.16 (from ipython>=6.1.0->ipywidgets->pytorch-tabular)\r\n",
      "  Obtaining dependency information for jedi>=0.16 from https://files.pythonhosted.org/packages/c0/5a/9cac0c82afec3d09ccd97c8b6502d48f165f9124db81b4bcb90b4af974ee/jedi-0.19.2-py2.py3-none-any.whl.metadata\r\n",
      "  Using cached jedi-0.19.2-py2.py3-none-any.whl.metadata (22 kB)\r\n",
      "Collecting matplotlib-inline (from ipython>=6.1.0->ipywidgets->pytorch-tabular)\r\n",
      "  Obtaining dependency information for matplotlib-inline from https://files.pythonhosted.org/packages/8f/8e/9ad090d3553c280a8060fbf6e24dc1c0c29704ee7d1c372f0c174aa59285/matplotlib_inline-0.1.7-py3-none-any.whl.metadata\r\n",
      "  Using cached matplotlib_inline-0.1.7-py3-none-any.whl.metadata (3.9 kB)\r\n",
      "Collecting prompt-toolkit<3.1.0,>=3.0.41 (from ipython>=6.1.0->ipywidgets->pytorch-tabular)\r\n",
      "  Obtaining dependency information for prompt-toolkit<3.1.0,>=3.0.41 from https://files.pythonhosted.org/packages/ce/4f/5249960887b1fbe561d9ff265496d170b55a735b76724f10ef19f9e40716/prompt_toolkit-3.0.51-py3-none-any.whl.metadata\r\n",
      "  Using cached prompt_toolkit-3.0.51-py3-none-any.whl.metadata (6.4 kB)\r\n",
      "Collecting stack-data (from ipython>=6.1.0->ipywidgets->pytorch-tabular)\r\n",
      "  Obtaining dependency information for stack-data from https://files.pythonhosted.org/packages/f1/7b/ce1eafaf1a76852e2ec9b22edecf1daa58175c090266e9f6c64afcd81d91/stack_data-0.6.3-py3-none-any.whl.metadata\r\n",
      "  Using cached stack_data-0.6.3-py3-none-any.whl.metadata (18 kB)\r\n",
      "Collecting exceptiongroup (from ipython>=6.1.0->ipywidgets->pytorch-tabular)\r\n",
      "  Obtaining dependency information for exceptiongroup from https://files.pythonhosted.org/packages/36/f4/c6e662dade71f56cd2f3735141b265c3c79293c109549c1e6933b0651ffc/exceptiongroup-1.3.0-py3-none-any.whl.metadata\r\n",
      "  Using cached exceptiongroup-1.3.0-py3-none-any.whl.metadata (6.7 kB)\r\n",
      "Collecting pexpect>4.3 (from ipython>=6.1.0->ipywidgets->pytorch-tabular)\r\n",
      "  Obtaining dependency information for pexpect>4.3 from https://files.pythonhosted.org/packages/9e/c3/059298687310d527a58bb01f3b1965787ee3b40dce76752eda8b44e9a2c5/pexpect-4.9.0-py2.py3-none-any.whl.metadata\r\n",
      "  Using cached pexpect-4.9.0-py2.py3-none-any.whl.metadata (2.5 kB)\r\n",
      "Collecting importlib-metadata>=4.4 (from markdown>=2.6.8->tensorboard!=2.5.0,>2.2.0->pytorch-tabular)\r\n",
      "  Obtaining dependency information for importlib-metadata>=4.4 from https://files.pythonhosted.org/packages/20/b0/36bd937216ec521246249be3bf9855081de4c5e06a0c9b4219dbeda50373/importlib_metadata-8.7.0-py3-none-any.whl.metadata\r\n",
      "  Using cached importlib_metadata-8.7.0-py3-none-any.whl.metadata (4.8 kB)\r\n",
      "Collecting mdurl~=0.1 (from markdown-it-py>=2.2.0->rich>=11.0.0->pytorch-tabular)\r\n",
      "  Obtaining dependency information for mdurl~=0.1 from https://files.pythonhosted.org/packages/b3/38/89ba8ad64ae25be8de66a6d463314cf1eb366222074cfda9ee839c56a4b4/mdurl-0.1.2-py3-none-any.whl.metadata\r\n",
      "  Using cached mdurl-0.1.2-py3-none-any.whl.metadata (1.6 kB)\r\n",
      "Collecting parso<0.9.0,>=0.8.4 (from jedi>=0.16->ipython>=6.1.0->ipywidgets->pytorch-tabular)\r\n",
      "  Obtaining dependency information for parso<0.9.0,>=0.8.4 from https://files.pythonhosted.org/packages/c6/ac/dac4a63f978e4dcb3c6d3a78c4d8e0192a113d288502a1216950c41b1027/parso-0.8.4-py2.py3-none-any.whl.metadata\r\n",
      "  Using cached parso-0.8.4-py2.py3-none-any.whl.metadata (7.7 kB)\r\n",
      "Collecting ptyprocess>=0.5 (from pexpect>4.3->ipython>=6.1.0->ipywidgets->pytorch-tabular)\r\n",
      "  Obtaining dependency information for ptyprocess>=0.5 from https://files.pythonhosted.org/packages/22/a6/858897256d0deac81a172289110f31629fc4cee19b6f01283303e18c8db3/ptyprocess-0.7.0-py2.py3-none-any.whl.metadata\r\n",
      "  Using cached ptyprocess-0.7.0-py2.py3-none-any.whl.metadata (1.3 kB)\r\n",
      "Collecting wcwidth (from prompt-toolkit<3.1.0,>=3.0.41->ipython>=6.1.0->ipywidgets->pytorch-tabular)\r\n",
      "  Obtaining dependency information for wcwidth from https://files.pythonhosted.org/packages/fd/84/fd2ba7aafacbad3c4201d395674fc6348826569da3c0937e75505ead3528/wcwidth-0.2.13-py2.py3-none-any.whl.metadata\r\n",
      "  Using cached wcwidth-0.2.13-py2.py3-none-any.whl.metadata (14 kB)\r\n",
      "Collecting idna>=2.0 (from yarl<2.0,>=1.17.0->aiohttp!=4.0.0a0,!=4.0.0a1->fsspec->torch==2.1.0)\r\n",
      "  Obtaining dependency information for idna>=2.0 from https://files.pythonhosted.org/packages/76/c6/c88e154df9c4e1a2a66ccf0005a88dfb2650c1dffb6f5ce603dfbd452ce3/idna-3.10-py3-none-any.whl.metadata\r\n",
      "  Using cached idna-3.10-py3-none-any.whl.metadata (10 kB)\r\n",
      "Collecting executing>=1.2.0 (from stack-data->ipython>=6.1.0->ipywidgets->pytorch-tabular)\r\n",
      "  Obtaining dependency information for executing>=1.2.0 from https://files.pythonhosted.org/packages/7b/8f/c4d9bafc34ad7ad5d8dc16dd1347ee0e507a52c3adb6bfa8887e1c6a26ba/executing-2.2.0-py2.py3-none-any.whl.metadata\r\n",
      "  Using cached executing-2.2.0-py2.py3-none-any.whl.metadata (8.9 kB)\r\n",
      "Collecting asttokens>=2.1.0 (from stack-data->ipython>=6.1.0->ipywidgets->pytorch-tabular)\r\n",
      "  Obtaining dependency information for asttokens>=2.1.0 from https://files.pythonhosted.org/packages/25/8a/c46dcc25341b5bce5472c718902eb3d38600a903b14fa6aeecef3f21a46f/asttokens-3.0.0-py3-none-any.whl.metadata\r\n",
      "  Using cached asttokens-3.0.0-py3-none-any.whl.metadata (4.7 kB)\r\n",
      "Collecting pure-eval (from stack-data->ipython>=6.1.0->ipywidgets->pytorch-tabular)\r\n",
      "  Obtaining dependency information for pure-eval from https://files.pythonhosted.org/packages/8e/37/efad0257dc6e593a18957422533ff0f87ede7c9c6ea010a2177d738fb82f/pure_eval-0.2.3-py3-none-any.whl.metadata\r\n",
      "  Using cached pure_eval-0.2.3-py3-none-any.whl.metadata (6.3 kB)\r\n",
      "Downloading torch-2.1.0-cp39-none-macosx_11_0_arm64.whl (59.5 MB)\r\n",
      "\u001B[2K   \u001B[90m━━━━━━━━━━━━━━━━━━━━━━━━━━━━━━━━━━━━━━━━\u001B[0m \u001B[32m59.5/59.5 MB\u001B[0m \u001B[31m12.4 MB/s\u001B[0m eta \u001B[36m0:00:00\u001B[0m00:01\u001B[0m00:01\u001B[0m\r\n",
      "\u001B[?25hUsing cached pytorch_lightning-2.1.3-py3-none-any.whl (777 kB)\r\n",
      "Using cached pytorch_forecasting-1.3.0-py3-none-any.whl (197 kB)\r\n",
      "Using cached pytorch_tabular-1.1.1-py2.py3-none-any.whl (163 kB)\r\n",
      "Using cached pytorch_tabnet-4.1.0-py3-none-any.whl (44 kB)\r\n",
      "Using cached einops-0.7.0-py3-none-any.whl (44 kB)\r\n",
      "Using cached lightning-2.5.1.post0-py3-none-any.whl (819 kB)\r\n",
      "Using cached lightning_utilities-0.14.3-py3-none-any.whl (28 kB)\r\n",
      "Using cached matplotlib-3.9.4-cp39-cp39-macosx_11_0_arm64.whl (7.8 MB)\r\n",
      "Using cached numpy-1.26.4-cp39-cp39-macosx_11_0_arm64.whl (14.0 MB)\r\n",
      "Using cached omegaconf-2.3.0-py3-none-any.whl (79 kB)\r\n",
      "Using cached packaging-24.2-py3-none-any.whl (65 kB)\r\n",
      "Using cached pandas-2.2.3-cp39-cp39-macosx_11_0_arm64.whl (11.3 MB)\r\n",
      "Using cached protobuf-5.28.3-cp38-abi3-macosx_10_9_universal2.whl (414 kB)\r\n",
      "Using cached PyYAML-6.0.2-cp39-cp39-macosx_11_0_arm64.whl (172 kB)\r\n",
      "Using cached rich-14.0.0-py3-none-any.whl (243 kB)\r\n",
      "Using cached scikit_learn-1.6.1-cp39-cp39-macosx_12_0_arm64.whl (11.1 MB)\r\n",
      "Using cached scipy-1.13.1-cp39-cp39-macosx_12_0_arm64.whl (30.3 MB)\r\n",
      "Using cached tensorboard-2.19.0-py3-none-any.whl (5.5 MB)\r\n",
      "Using cached torchmetrics-1.5.2-py3-none-any.whl (891 kB)\r\n",
      "Using cached tqdm-4.67.1-py3-none-any.whl (78 kB)\r\n",
      "Using cached typing_extensions-4.13.2-py3-none-any.whl (45 kB)\r\n",
      "Using cached filelock-3.18.0-py3-none-any.whl (16 kB)\r\n",
      "Using cached fsspec-2025.3.2-py3-none-any.whl (194 kB)\r\n",
      "Using cached ipywidgets-8.1.7-py3-none-any.whl (139 kB)\r\n",
      "Using cached jinja2-3.1.6-py3-none-any.whl (134 kB)\r\n",
      "Using cached networkx-3.2.1-py3-none-any.whl (1.6 MB)\r\n",
      "Using cached sympy-1.14.0-py3-none-any.whl (6.3 MB)\r\n",
      "Using cached absl_py-2.2.2-py3-none-any.whl (135 kB)\r\n",
      "Using cached aiohttp-3.11.18-cp39-cp39-macosx_11_0_arm64.whl (457 kB)\r\n",
      "Using cached comm-0.2.2-py3-none-any.whl (7.2 kB)\r\n",
      "Using cached contourpy-1.3.0-cp39-cp39-macosx_11_0_arm64.whl (249 kB)\r\n",
      "Using cached cycler-0.12.1-py3-none-any.whl (8.3 kB)\r\n",
      "Using cached fonttools-4.58.0-cp39-cp39-macosx_10_9_universal2.whl (2.7 MB)\r\n",
      "Using cached grpcio-1.71.0-cp39-cp39-macosx_10_14_universal2.whl (11.3 MB)\r\n",
      "Using cached importlib_resources-6.5.2-py3-none-any.whl (37 kB)\r\n",
      "Using cached ipython-8.18.1-py3-none-any.whl (808 kB)\r\n",
      "Using cached joblib-1.5.0-py3-none-any.whl (307 kB)\r\n",
      "Using cached jupyterlab_widgets-3.0.15-py3-none-any.whl (216 kB)\r\n",
      "Using cached kiwisolver-1.4.7-cp39-cp39-macosx_11_0_arm64.whl (64 kB)\r\n",
      "Using cached markdown-3.8-py3-none-any.whl (106 kB)\r\n",
      "Using cached markdown_it_py-3.0.0-py3-none-any.whl (87 kB)\r\n",
      "Using cached MarkupSafe-3.0.2-cp39-cp39-macosx_11_0_arm64.whl (12 kB)\r\n",
      "Using cached mpmath-1.3.0-py3-none-any.whl (536 kB)\r\n",
      "Using cached pillow-11.2.1-cp39-cp39-macosx_11_0_arm64.whl (3.0 MB)\r\n",
      "Using cached pygments-2.19.1-py3-none-any.whl (1.2 MB)\r\n",
      "Using cached pyparsing-3.2.3-py3-none-any.whl (111 kB)\r\n",
      "Using cached python_dateutil-2.9.0.post0-py2.py3-none-any.whl (229 kB)\r\n",
      "Using cached pytz-2025.2-py2.py3-none-any.whl (509 kB)\r\n",
      "Downloading setuptools-80.7.1-py3-none-any.whl (1.2 MB)\r\n",
      "\u001B[2K   \u001B[90m━━━━━━━━━━━━━━━━━━━━━━━━━━━━━━━━━━━━━━━━\u001B[0m \u001B[32m1.2/1.2 MB\u001B[0m \u001B[31m20.8 MB/s\u001B[0m eta \u001B[36m0:00:00\u001B[0ma \u001B[36m0:00:01\u001B[0m\r\n",
      "\u001B[?25hUsing cached six-1.17.0-py2.py3-none-any.whl (11 kB)\r\n",
      "Using cached tensorboard_data_server-0.7.2-py3-none-any.whl (2.4 kB)\r\n",
      "Using cached threadpoolctl-3.6.0-py3-none-any.whl (18 kB)\r\n",
      "Using cached traitlets-5.14.3-py3-none-any.whl (85 kB)\r\n",
      "Using cached tzdata-2025.2-py2.py3-none-any.whl (347 kB)\r\n",
      "Using cached werkzeug-3.1.3-py3-none-any.whl (224 kB)\r\n",
      "Using cached widgetsnbextension-4.0.14-py3-none-any.whl (2.2 MB)\r\n",
      "Using cached aiohappyeyeballs-2.6.1-py3-none-any.whl (15 kB)\r\n",
      "Using cached aiosignal-1.3.2-py2.py3-none-any.whl (7.6 kB)\r\n",
      "Using cached async_timeout-5.0.1-py3-none-any.whl (6.2 kB)\r\n",
      "Using cached attrs-25.3.0-py3-none-any.whl (63 kB)\r\n",
      "Using cached frozenlist-1.6.0-cp39-cp39-macosx_11_0_arm64.whl (122 kB)\r\n",
      "Using cached importlib_metadata-8.7.0-py3-none-any.whl (27 kB)\r\n",
      "Using cached jedi-0.19.2-py2.py3-none-any.whl (1.6 MB)\r\n",
      "Using cached mdurl-0.1.2-py3-none-any.whl (10.0 kB)\r\n",
      "Using cached multidict-6.4.3-cp39-cp39-macosx_11_0_arm64.whl (37 kB)\r\n",
      "Using cached pexpect-4.9.0-py2.py3-none-any.whl (63 kB)\r\n",
      "Using cached prompt_toolkit-3.0.51-py3-none-any.whl (387 kB)\r\n",
      "Using cached propcache-0.3.1-cp39-cp39-macosx_11_0_arm64.whl (46 kB)\r\n",
      "Using cached yarl-1.20.0-cp39-cp39-macosx_11_0_arm64.whl (95 kB)\r\n",
      "Using cached zipp-3.21.0-py3-none-any.whl (9.6 kB)\r\n",
      "Using cached decorator-5.2.1-py3-none-any.whl (9.2 kB)\r\n",
      "Using cached exceptiongroup-1.3.0-py3-none-any.whl (16 kB)\r\n",
      "Using cached matplotlib_inline-0.1.7-py3-none-any.whl (9.9 kB)\r\n",
      "Using cached stack_data-0.6.3-py3-none-any.whl (24 kB)\r\n",
      "Using cached asttokens-3.0.0-py3-none-any.whl (26 kB)\r\n",
      "Using cached executing-2.2.0-py2.py3-none-any.whl (26 kB)\r\n",
      "Using cached idna-3.10-py3-none-any.whl (70 kB)\r\n",
      "Using cached parso-0.8.4-py2.py3-none-any.whl (103 kB)\r\n",
      "Using cached ptyprocess-0.7.0-py2.py3-none-any.whl (13 kB)\r\n",
      "Using cached pure_eval-0.2.3-py3-none-any.whl (11 kB)\r\n",
      "Using cached wcwidth-0.2.13-py2.py3-none-any.whl (34 kB)\r\n",
      "Installing collected packages: wcwidth, pytz, pure-eval, ptyprocess, mpmath, antlr4-python3-runtime, zipp, widgetsnbextension, tzdata, typing-extensions, traitlets, tqdm, threadpoolctl, tensorboard-data-server, sympy, six, setuptools, PyYAML, pyparsing, pygments, protobuf, propcache, prompt-toolkit, pillow, pexpect, parso, packaging, numpy, networkx, mdurl, MarkupSafe, kiwisolver, jupyterlab_widgets, joblib, idna, grpcio, fsspec, frozenlist, fonttools, filelock, executing, einops, decorator, cycler, attrs, async-timeout, asttokens, aiohappyeyeballs, absl-py, werkzeug, stack-data, scipy, python-dateutil, omegaconf, multidict, matplotlib-inline, markdown-it-py, lightning-utilities, jinja2, jedi, importlib-resources, importlib-metadata, exceptiongroup, contourpy, comm, aiosignal, yarl, torch, scikit-learn, rich, pandas, matplotlib, markdown, ipython, torchmetrics, tensorboard, pytorch-tabnet, ipywidgets, aiohttp, pytorch-lightning, pytorch-tabular, lightning, pytorch-forecasting\r\n",
      "  Attempting uninstall: wcwidth\r\n",
      "    Found existing installation: wcwidth 0.2.13\r\n",
      "    Uninstalling wcwidth-0.2.13:\r\n",
      "      Successfully uninstalled wcwidth-0.2.13\r\n",
      "  Attempting uninstall: pytz\r\n",
      "    Found existing installation: pytz 2025.2\r\n",
      "    Uninstalling pytz-2025.2:\r\n",
      "      Successfully uninstalled pytz-2025.2\r\n",
      "  Attempting uninstall: pure-eval\r\n",
      "    Found existing installation: pure_eval 0.2.3\r\n",
      "    Uninstalling pure_eval-0.2.3:\r\n",
      "      Successfully uninstalled pure_eval-0.2.3\r\n",
      "  Attempting uninstall: ptyprocess\r\n",
      "    Found existing installation: ptyprocess 0.7.0\r\n",
      "    Uninstalling ptyprocess-0.7.0:\r\n",
      "      Successfully uninstalled ptyprocess-0.7.0\r\n",
      "  Attempting uninstall: mpmath\r\n",
      "    Found existing installation: mpmath 1.3.0\r\n",
      "    Uninstalling mpmath-1.3.0:\r\n",
      "      Successfully uninstalled mpmath-1.3.0\r\n",
      "  Attempting uninstall: antlr4-python3-runtime\r\n",
      "    Found existing installation: antlr4-python3-runtime 4.9.3\r\n",
      "    Uninstalling antlr4-python3-runtime-4.9.3:\r\n",
      "      Successfully uninstalled antlr4-python3-runtime-4.9.3\r\n",
      "  Attempting uninstall: zipp\r\n",
      "    Found existing installation: zipp 3.21.0\r\n",
      "    Uninstalling zipp-3.21.0:\r\n",
      "      Successfully uninstalled zipp-3.21.0\r\n",
      "  Attempting uninstall: widgetsnbextension\r\n",
      "    Found existing installation: widgetsnbextension 4.0.14\r\n",
      "    Uninstalling widgetsnbextension-4.0.14:\r\n",
      "      Successfully uninstalled widgetsnbextension-4.0.14\r\n",
      "  Attempting uninstall: tzdata\r\n",
      "    Found existing installation: tzdata 2025.2\r\n",
      "    Uninstalling tzdata-2025.2:\r\n",
      "      Successfully uninstalled tzdata-2025.2\r\n",
      "  Attempting uninstall: typing-extensions\r\n",
      "    Found existing installation: typing_extensions 4.13.2\r\n",
      "    Uninstalling typing_extensions-4.13.2:\r\n",
      "      Successfully uninstalled typing_extensions-4.13.2\r\n",
      "  Attempting uninstall: traitlets\r\n",
      "    Found existing installation: traitlets 5.14.3\r\n",
      "    Uninstalling traitlets-5.14.3:\r\n",
      "      Successfully uninstalled traitlets-5.14.3\r\n",
      "  Attempting uninstall: tqdm\r\n",
      "    Found existing installation: tqdm 4.67.1\r\n",
      "    Uninstalling tqdm-4.67.1:\r\n",
      "      Successfully uninstalled tqdm-4.67.1\r\n",
      "  Attempting uninstall: threadpoolctl\r\n",
      "    Found existing installation: threadpoolctl 3.6.0\r\n",
      "    Uninstalling threadpoolctl-3.6.0:\r\n",
      "      Successfully uninstalled threadpoolctl-3.6.0\r\n",
      "  Attempting uninstall: tensorboard-data-server\r\n",
      "    Found existing installation: tensorboard-data-server 0.7.2\r\n",
      "    Uninstalling tensorboard-data-server-0.7.2:\r\n",
      "      Successfully uninstalled tensorboard-data-server-0.7.2\r\n",
      "  Attempting uninstall: sympy\r\n",
      "    Found existing installation: sympy 1.14.0\r\n",
      "    Uninstalling sympy-1.14.0:\r\n",
      "      Successfully uninstalled sympy-1.14.0\r\n",
      "  Attempting uninstall: six\r\n",
      "    Found existing installation: six 1.17.0\r\n",
      "    Uninstalling six-1.17.0:\r\n",
      "      Successfully uninstalled six-1.17.0\r\n",
      "  Attempting uninstall: setuptools\r\n",
      "    Found existing installation: setuptools 68.2.0\r\n",
      "    Uninstalling setuptools-68.2.0:\r\n",
      "      Successfully uninstalled setuptools-68.2.0\r\n",
      "  Attempting uninstall: PyYAML\r\n",
      "    Found existing installation: PyYAML 6.0.2\r\n",
      "    Uninstalling PyYAML-6.0.2:\r\n",
      "      Successfully uninstalled PyYAML-6.0.2\r\n",
      "  Attempting uninstall: pyparsing\r\n",
      "    Found existing installation: pyparsing 3.2.3\r\n",
      "    Uninstalling pyparsing-3.2.3:\r\n",
      "      Successfully uninstalled pyparsing-3.2.3\r\n",
      "  Attempting uninstall: pygments\r\n",
      "    Found existing installation: Pygments 2.19.1\r\n",
      "    Uninstalling Pygments-2.19.1:\r\n",
      "      Successfully uninstalled Pygments-2.19.1\r\n",
      "  Attempting uninstall: protobuf\r\n",
      "    Found existing installation: protobuf 5.28.3\r\n",
      "    Uninstalling protobuf-5.28.3:\r\n",
      "      Successfully uninstalled protobuf-5.28.3\r\n",
      "  Attempting uninstall: propcache\r\n",
      "    Found existing installation: propcache 0.3.1\r\n",
      "    Uninstalling propcache-0.3.1:\r\n",
      "      Successfully uninstalled propcache-0.3.1\r\n",
      "  Attempting uninstall: prompt-toolkit\r\n",
      "    Found existing installation: prompt_toolkit 3.0.51\r\n",
      "    Uninstalling prompt_toolkit-3.0.51:\r\n",
      "      Successfully uninstalled prompt_toolkit-3.0.51\r\n",
      "  Attempting uninstall: pillow\r\n",
      "    Found existing installation: pillow 11.2.1\r\n",
      "    Uninstalling pillow-11.2.1:\r\n",
      "      Successfully uninstalled pillow-11.2.1\r\n",
      "  Attempting uninstall: pexpect\r\n",
      "    Found existing installation: pexpect 4.9.0\r\n",
      "    Uninstalling pexpect-4.9.0:\r\n",
      "      Successfully uninstalled pexpect-4.9.0\r\n",
      "  Attempting uninstall: parso\r\n",
      "    Found existing installation: parso 0.8.4\r\n",
      "    Uninstalling parso-0.8.4:\r\n",
      "      Successfully uninstalled parso-0.8.4\r\n",
      "  Attempting uninstall: packaging\r\n",
      "    Found existing installation: packaging 24.2\r\n",
      "    Uninstalling packaging-24.2:\r\n",
      "      Successfully uninstalled packaging-24.2\r\n",
      "  Attempting uninstall: numpy\r\n",
      "    Found existing installation: numpy 1.26.4\r\n",
      "    Uninstalling numpy-1.26.4:\r\n",
      "      Successfully uninstalled numpy-1.26.4\r\n",
      "  Attempting uninstall: networkx\r\n",
      "    Found existing installation: networkx 3.2.1\r\n",
      "    Uninstalling networkx-3.2.1:\r\n",
      "      Successfully uninstalled networkx-3.2.1\r\n",
      "  Attempting uninstall: mdurl\r\n",
      "    Found existing installation: mdurl 0.1.2\r\n",
      "    Uninstalling mdurl-0.1.2:\r\n",
      "      Successfully uninstalled mdurl-0.1.2\r\n",
      "  Attempting uninstall: MarkupSafe\r\n",
      "    Found existing installation: MarkupSafe 3.0.2\r\n",
      "    Uninstalling MarkupSafe-3.0.2:\r\n",
      "      Successfully uninstalled MarkupSafe-3.0.2\r\n",
      "  Attempting uninstall: kiwisolver\r\n",
      "    Found existing installation: kiwisolver 1.4.7\r\n",
      "    Uninstalling kiwisolver-1.4.7:\r\n",
      "      Successfully uninstalled kiwisolver-1.4.7\r\n",
      "  Attempting uninstall: jupyterlab_widgets\r\n",
      "    Found existing installation: jupyterlab_widgets 3.0.15\r\n",
      "    Uninstalling jupyterlab_widgets-3.0.15:\r\n",
      "      Successfully uninstalled jupyterlab_widgets-3.0.15\r\n",
      "  Attempting uninstall: joblib\r\n",
      "    Found existing installation: joblib 1.5.0\r\n",
      "    Uninstalling joblib-1.5.0:\r\n",
      "      Successfully uninstalled joblib-1.5.0\r\n",
      "  Attempting uninstall: idna\r\n",
      "    Found existing installation: idna 3.10\r\n",
      "    Uninstalling idna-3.10:\r\n",
      "      Successfully uninstalled idna-3.10\r\n",
      "  Attempting uninstall: grpcio\r\n",
      "    Found existing installation: grpcio 1.71.0\r\n",
      "    Uninstalling grpcio-1.71.0:\r\n",
      "      Successfully uninstalled grpcio-1.71.0\r\n",
      "  Attempting uninstall: fsspec\r\n",
      "    Found existing installation: fsspec 2025.3.2\r\n",
      "    Uninstalling fsspec-2025.3.2:\r\n",
      "      Successfully uninstalled fsspec-2025.3.2\r\n",
      "  Attempting uninstall: frozenlist\r\n",
      "    Found existing installation: frozenlist 1.6.0\r\n",
      "    Uninstalling frozenlist-1.6.0:\r\n",
      "      Successfully uninstalled frozenlist-1.6.0\r\n",
      "  Attempting uninstall: fonttools\r\n",
      "    Found existing installation: fonttools 4.58.0\r\n",
      "    Uninstalling fonttools-4.58.0:\r\n",
      "      Successfully uninstalled fonttools-4.58.0\r\n",
      "  Attempting uninstall: filelock\r\n",
      "    Found existing installation: filelock 3.18.0\r\n",
      "    Uninstalling filelock-3.18.0:\r\n",
      "      Successfully uninstalled filelock-3.18.0\r\n",
      "  Attempting uninstall: executing\r\n",
      "    Found existing installation: executing 2.2.0\r\n",
      "    Uninstalling executing-2.2.0:\r\n",
      "      Successfully uninstalled executing-2.2.0\r\n",
      "  Attempting uninstall: einops\r\n",
      "    Found existing installation: einops 0.7.0\r\n",
      "    Uninstalling einops-0.7.0:\r\n",
      "      Successfully uninstalled einops-0.7.0\r\n",
      "  Attempting uninstall: decorator\r\n",
      "    Found existing installation: decorator 5.2.1\r\n",
      "    Uninstalling decorator-5.2.1:\r\n",
      "      Successfully uninstalled decorator-5.2.1\r\n",
      "  Attempting uninstall: cycler\r\n",
      "    Found existing installation: cycler 0.12.1\r\n",
      "    Uninstalling cycler-0.12.1:\r\n",
      "      Successfully uninstalled cycler-0.12.1\r\n",
      "  Attempting uninstall: attrs\r\n",
      "    Found existing installation: attrs 25.3.0\r\n",
      "    Uninstalling attrs-25.3.0:\r\n",
      "      Successfully uninstalled attrs-25.3.0\r\n",
      "  Attempting uninstall: async-timeout\r\n",
      "    Found existing installation: async-timeout 5.0.1\r\n",
      "    Uninstalling async-timeout-5.0.1:\r\n",
      "      Successfully uninstalled async-timeout-5.0.1\r\n",
      "  Attempting uninstall: asttokens\r\n",
      "    Found existing installation: asttokens 3.0.0\r\n",
      "    Uninstalling asttokens-3.0.0:\r\n",
      "      Successfully uninstalled asttokens-3.0.0\r\n",
      "  Attempting uninstall: aiohappyeyeballs\r\n",
      "    Found existing installation: aiohappyeyeballs 2.6.1\r\n",
      "    Uninstalling aiohappyeyeballs-2.6.1:\r\n",
      "      Successfully uninstalled aiohappyeyeballs-2.6.1\r\n",
      "  Attempting uninstall: absl-py\r\n",
      "    Found existing installation: absl-py 2.2.2\r\n",
      "    Uninstalling absl-py-2.2.2:\r\n",
      "      Successfully uninstalled absl-py-2.2.2\r\n",
      "  Attempting uninstall: werkzeug\r\n",
      "    Found existing installation: Werkzeug 3.1.3\r\n",
      "    Uninstalling Werkzeug-3.1.3:\r\n",
      "      Successfully uninstalled Werkzeug-3.1.3\r\n",
      "  Attempting uninstall: stack-data\r\n",
      "    Found existing installation: stack-data 0.6.3\r\n",
      "    Uninstalling stack-data-0.6.3:\r\n",
      "      Successfully uninstalled stack-data-0.6.3\r\n",
      "  Attempting uninstall: scipy\r\n",
      "    Found existing installation: scipy 1.13.1\r\n",
      "    Uninstalling scipy-1.13.1:\r\n",
      "      Successfully uninstalled scipy-1.13.1\r\n",
      "  Attempting uninstall: python-dateutil\r\n",
      "    Found existing installation: python-dateutil 2.9.0.post0\r\n",
      "    Uninstalling python-dateutil-2.9.0.post0:\r\n",
      "      Successfully uninstalled python-dateutil-2.9.0.post0\r\n",
      "  Attempting uninstall: omegaconf\r\n",
      "    Found existing installation: omegaconf 2.3.0\r\n",
      "    Uninstalling omegaconf-2.3.0:\r\n",
      "      Successfully uninstalled omegaconf-2.3.0\r\n",
      "  Attempting uninstall: multidict\r\n",
      "    Found existing installation: multidict 6.4.3\r\n",
      "    Uninstalling multidict-6.4.3:\r\n",
      "      Successfully uninstalled multidict-6.4.3\r\n",
      "  Attempting uninstall: matplotlib-inline\r\n",
      "    Found existing installation: matplotlib-inline 0.1.7\r\n",
      "    Uninstalling matplotlib-inline-0.1.7:\r\n",
      "      Successfully uninstalled matplotlib-inline-0.1.7\r\n",
      "  Attempting uninstall: markdown-it-py\r\n",
      "    Found existing installation: markdown-it-py 3.0.0\r\n",
      "    Uninstalling markdown-it-py-3.0.0:\r\n",
      "      Successfully uninstalled markdown-it-py-3.0.0\r\n",
      "  Attempting uninstall: lightning-utilities\r\n",
      "    Found existing installation: lightning-utilities 0.14.3\r\n",
      "    Uninstalling lightning-utilities-0.14.3:\r\n",
      "      Successfully uninstalled lightning-utilities-0.14.3\r\n",
      "  Attempting uninstall: jinja2\r\n",
      "    Found existing installation: Jinja2 3.1.6\r\n",
      "    Uninstalling Jinja2-3.1.6:\r\n",
      "      Successfully uninstalled Jinja2-3.1.6\r\n",
      "  Attempting uninstall: jedi\r\n",
      "    Found existing installation: jedi 0.19.2\r\n",
      "    Uninstalling jedi-0.19.2:\r\n",
      "      Successfully uninstalled jedi-0.19.2\r\n",
      "  Attempting uninstall: importlib-resources\r\n",
      "    Found existing installation: importlib_resources 6.5.2\r\n",
      "    Uninstalling importlib_resources-6.5.2:\r\n",
      "      Successfully uninstalled importlib_resources-6.5.2\r\n",
      "  Attempting uninstall: importlib-metadata\r\n",
      "    Found existing installation: importlib_metadata 8.7.0\r\n",
      "    Uninstalling importlib_metadata-8.7.0:\r\n",
      "      Successfully uninstalled importlib_metadata-8.7.0\r\n",
      "  Attempting uninstall: exceptiongroup\r\n",
      "    Found existing installation: exceptiongroup 1.3.0\r\n",
      "    Uninstalling exceptiongroup-1.3.0:\r\n",
      "      Successfully uninstalled exceptiongroup-1.3.0\r\n",
      "  Attempting uninstall: contourpy\r\n",
      "    Found existing installation: contourpy 1.3.0\r\n",
      "    Uninstalling contourpy-1.3.0:\r\n",
      "      Successfully uninstalled contourpy-1.3.0\r\n",
      "  Attempting uninstall: comm\r\n",
      "    Found existing installation: comm 0.2.2\r\n",
      "    Uninstalling comm-0.2.2:\r\n",
      "      Successfully uninstalled comm-0.2.2\r\n",
      "  Attempting uninstall: aiosignal\r\n",
      "    Found existing installation: aiosignal 1.3.2\r\n",
      "    Uninstalling aiosignal-1.3.2:\r\n",
      "      Successfully uninstalled aiosignal-1.3.2\r\n",
      "  Attempting uninstall: yarl\r\n",
      "    Found existing installation: yarl 1.20.0\r\n",
      "    Uninstalling yarl-1.20.0:\r\n",
      "      Successfully uninstalled yarl-1.20.0\r\n",
      "  Attempting uninstall: torch\r\n",
      "    Found existing installation: torch 2.7.0\r\n",
      "    Uninstalling torch-2.7.0:\r\n",
      "      Successfully uninstalled torch-2.7.0\r\n",
      "  Attempting uninstall: scikit-learn\r\n",
      "    Found existing installation: scikit-learn 1.6.1\r\n",
      "    Uninstalling scikit-learn-1.6.1:\r\n",
      "      Successfully uninstalled scikit-learn-1.6.1\r\n",
      "  Attempting uninstall: rich\r\n",
      "    Found existing installation: rich 14.0.0\r\n",
      "    Uninstalling rich-14.0.0:\r\n",
      "      Successfully uninstalled rich-14.0.0\r\n",
      "  Attempting uninstall: pandas\r\n",
      "    Found existing installation: pandas 2.2.3\r\n",
      "    Uninstalling pandas-2.2.3:\r\n",
      "      Successfully uninstalled pandas-2.2.3\r\n",
      "  Attempting uninstall: matplotlib\r\n",
      "    Found existing installation: matplotlib 3.9.4\r\n",
      "    Uninstalling matplotlib-3.9.4:\r\n",
      "      Successfully uninstalled matplotlib-3.9.4\r\n",
      "  Attempting uninstall: markdown\r\n",
      "    Found existing installation: Markdown 3.8\r\n",
      "    Uninstalling Markdown-3.8:\r\n",
      "      Successfully uninstalled Markdown-3.8\r\n",
      "  Attempting uninstall: ipython\r\n",
      "    Found existing installation: ipython 8.18.1\r\n",
      "    Uninstalling ipython-8.18.1:\r\n",
      "      Successfully uninstalled ipython-8.18.1\r\n",
      "  Attempting uninstall: torchmetrics\r\n",
      "    Found existing installation: torchmetrics 1.5.2\r\n",
      "    Uninstalling torchmetrics-1.5.2:\r\n",
      "      Successfully uninstalled torchmetrics-1.5.2\r\n",
      "  Attempting uninstall: tensorboard\r\n",
      "    Found existing installation: tensorboard 2.19.0\r\n",
      "    Uninstalling tensorboard-2.19.0:\r\n",
      "      Successfully uninstalled tensorboard-2.19.0\r\n",
      "  Attempting uninstall: pytorch-tabnet\r\n",
      "    Found existing installation: pytorch-tabnet 4.1.0\r\n",
      "    Uninstalling pytorch-tabnet-4.1.0:\r\n",
      "      Successfully uninstalled pytorch-tabnet-4.1.0\r\n",
      "  Attempting uninstall: ipywidgets\r\n",
      "    Found existing installation: ipywidgets 8.1.7\r\n",
      "    Uninstalling ipywidgets-8.1.7:\r\n",
      "      Successfully uninstalled ipywidgets-8.1.7\r\n",
      "  Attempting uninstall: aiohttp\r\n",
      "    Found existing installation: aiohttp 3.11.18\r\n",
      "    Uninstalling aiohttp-3.11.18:\r\n",
      "      Successfully uninstalled aiohttp-3.11.18\r\n",
      "  Attempting uninstall: pytorch-lightning\r\n",
      "    Found existing installation: pytorch-lightning 2.1.3\r\n",
      "    Uninstalling pytorch-lightning-2.1.3:\r\n",
      "      Successfully uninstalled pytorch-lightning-2.1.3\r\n",
      "  Attempting uninstall: pytorch-tabular\r\n",
      "    Found existing installation: pytorch-tabular 1.1.1\r\n",
      "    Uninstalling pytorch-tabular-1.1.1:\r\n",
      "      Successfully uninstalled pytorch-tabular-1.1.1\r\n",
      "  Attempting uninstall: lightning\r\n",
      "    Found existing installation: lightning 2.5.1.post0\r\n",
      "    Uninstalling lightning-2.5.1.post0:\r\n",
      "      Successfully uninstalled lightning-2.5.1.post0\r\n",
      "  Attempting uninstall: pytorch-forecasting\r\n",
      "    Found existing installation: pytorch-forecasting 1.3.0\r\n",
      "    Uninstalling pytorch-forecasting-1.3.0:\r\n",
      "      Successfully uninstalled pytorch-forecasting-1.3.0\r\n",
      "Successfully installed MarkupSafe-3.0.2 PyYAML-6.0.2 absl-py-2.2.2 aiohappyeyeballs-2.6.1 aiohttp-3.11.18 aiosignal-1.3.2 antlr4-python3-runtime-4.9.3 asttokens-3.0.0 async-timeout-5.0.1 attrs-25.3.0 comm-0.2.2 contourpy-1.3.0 cycler-0.12.1 decorator-5.2.1 einops-0.7.0 exceptiongroup-1.3.0 executing-2.2.0 filelock-3.18.0 fonttools-4.58.0 frozenlist-1.6.0 fsspec-2025.3.2 grpcio-1.71.0 idna-3.10 importlib-metadata-8.7.0 importlib-resources-6.5.2 ipython-8.18.1 ipywidgets-8.1.7 jedi-0.19.2 jinja2-3.1.6 joblib-1.5.0 jupyterlab_widgets-3.0.15 kiwisolver-1.4.7 lightning-2.5.1.post0 lightning-utilities-0.14.3 markdown-3.8 markdown-it-py-3.0.0 matplotlib-3.9.4 matplotlib-inline-0.1.7 mdurl-0.1.2 mpmath-1.3.0 multidict-6.4.3 networkx-3.2.1 numpy-1.26.4 omegaconf-2.3.0 packaging-24.2 pandas-2.2.3 parso-0.8.4 pexpect-4.9.0 pillow-11.2.1 prompt-toolkit-3.0.51 propcache-0.3.1 protobuf-5.28.3 ptyprocess-0.7.0 pure-eval-0.2.3 pygments-2.19.1 pyparsing-3.2.3 python-dateutil-2.9.0.post0 pytorch-forecasting-1.3.0 pytorch-lightning-2.1.3 pytorch-tabnet-4.1.0 pytorch-tabular-1.1.1 pytz-2025.2 rich-14.0.0 scikit-learn-1.6.1 scipy-1.13.1 setuptools-80.7.1 six-1.17.0 stack-data-0.6.3 sympy-1.14.0 tensorboard-2.19.0 tensorboard-data-server-0.7.2 threadpoolctl-3.6.0 torch-2.1.0 torchmetrics-1.5.2 tqdm-4.67.1 traitlets-5.14.3 typing-extensions-4.13.2 tzdata-2025.2 wcwidth-0.2.13 werkzeug-3.1.3 widgetsnbextension-4.0.14 yarl-1.20.0 zipp-3.21.0\r\n",
      "\u001B[33mWARNING: There was an error checking the latest version of pip.\u001B[0m\u001B[33m\r\n",
      "\u001B[0m"
     ]
    }
   ],
   "execution_count": 30
  },
  {
   "metadata": {},
   "cell_type": "markdown",
   "source": "Импортируем пакеты",
   "id": "24a8762936cd10a"
  },
  {
   "metadata": {
    "ExecuteTime": {
     "end_time": "2025-05-16T00:16:07.873064Z",
     "start_time": "2025-05-16T00:16:07.868052Z"
    }
   },
   "cell_type": "code",
   "source": [
    "import pandas as pd\n",
    "import numpy as np\n",
    "import torch"
   ],
   "id": "6750c250fd2ca050",
   "outputs": [],
   "execution_count": 5
  },
  {
   "metadata": {},
   "cell_type": "markdown",
   "source": "Загружаем данные из csv",
   "id": "9121e82e24800f53"
  },
  {
   "metadata": {
    "ExecuteTime": {
     "end_time": "2025-05-16T00:16:09.665759Z",
     "start_time": "2025-05-16T00:16:09.230650Z"
    }
   },
   "cell_type": "code",
   "source": [
    "df = pd.read_csv('data/SANDUSDT.csv', sep=',', decimal='.', index_col='datetime', parse_dates=['datetime'])\n",
    "df.head()"
   ],
   "id": "3855d1e6b53a452b",
   "outputs": [
    {
     "data": {
      "text/plain": [
       "                         Open      High       Low      Volume       N  \\\n",
       "datetime                                                                \n",
       "2020-08-14 13:00:00  0.008333  0.094710  0.008333  48759746.0  5422.0   \n",
       "2020-08-14 13:01:00  0.080000  0.080005  0.062936  20299537.0  2869.0   \n",
       "2020-08-14 13:02:00  0.066000  0.071002  0.064000  19623360.0  2617.0   \n",
       "2020-08-14 13:03:00  0.067685  0.070659  0.066497  14743801.0  2179.0   \n",
       "2020-08-14 13:04:00  0.070000  0.073868  0.070000  15576142.0  2055.0   \n",
       "\n",
       "                     open_close_delta  high_low_delta  sin_hour  cos_hour  \\\n",
       "datetime                                                                    \n",
       "2020-08-14 13:00:00          0.071667        0.086377 -0.258819 -0.965926   \n",
       "2020-08-14 13:01:00         -0.014000        0.017069 -0.258819 -0.965926   \n",
       "2020-08-14 13:02:00          0.001685        0.007002 -0.258819 -0.965926   \n",
       "2020-08-14 13:03:00          0.002315        0.004162 -0.258819 -0.965926   \n",
       "2020-08-14 13:04:00          0.001758        0.003868 -0.258819 -0.965926   \n",
       "\n",
       "                     sin_day_of_week  cos_day_of_week  \n",
       "datetime                                               \n",
       "2020-08-14 13:00:00        -0.433884        -0.900969  \n",
       "2020-08-14 13:01:00        -0.433884        -0.900969  \n",
       "2020-08-14 13:02:00        -0.433884        -0.900969  \n",
       "2020-08-14 13:03:00        -0.433884        -0.900969  \n",
       "2020-08-14 13:04:00        -0.433884        -0.900969  "
      ],
      "text/html": [
       "<div>\n",
       "<style scoped>\n",
       "    .dataframe tbody tr th:only-of-type {\n",
       "        vertical-align: middle;\n",
       "    }\n",
       "\n",
       "    .dataframe tbody tr th {\n",
       "        vertical-align: top;\n",
       "    }\n",
       "\n",
       "    .dataframe thead th {\n",
       "        text-align: right;\n",
       "    }\n",
       "</style>\n",
       "<table border=\"1\" class=\"dataframe\">\n",
       "  <thead>\n",
       "    <tr style=\"text-align: right;\">\n",
       "      <th></th>\n",
       "      <th>Open</th>\n",
       "      <th>High</th>\n",
       "      <th>Low</th>\n",
       "      <th>Volume</th>\n",
       "      <th>N</th>\n",
       "      <th>open_close_delta</th>\n",
       "      <th>high_low_delta</th>\n",
       "      <th>sin_hour</th>\n",
       "      <th>cos_hour</th>\n",
       "      <th>sin_day_of_week</th>\n",
       "      <th>cos_day_of_week</th>\n",
       "    </tr>\n",
       "    <tr>\n",
       "      <th>datetime</th>\n",
       "      <th></th>\n",
       "      <th></th>\n",
       "      <th></th>\n",
       "      <th></th>\n",
       "      <th></th>\n",
       "      <th></th>\n",
       "      <th></th>\n",
       "      <th></th>\n",
       "      <th></th>\n",
       "      <th></th>\n",
       "      <th></th>\n",
       "    </tr>\n",
       "  </thead>\n",
       "  <tbody>\n",
       "    <tr>\n",
       "      <th>2020-08-14 13:00:00</th>\n",
       "      <td>0.008333</td>\n",
       "      <td>0.094710</td>\n",
       "      <td>0.008333</td>\n",
       "      <td>48759746.0</td>\n",
       "      <td>5422.0</td>\n",
       "      <td>0.071667</td>\n",
       "      <td>0.086377</td>\n",
       "      <td>-0.258819</td>\n",
       "      <td>-0.965926</td>\n",
       "      <td>-0.433884</td>\n",
       "      <td>-0.900969</td>\n",
       "    </tr>\n",
       "    <tr>\n",
       "      <th>2020-08-14 13:01:00</th>\n",
       "      <td>0.080000</td>\n",
       "      <td>0.080005</td>\n",
       "      <td>0.062936</td>\n",
       "      <td>20299537.0</td>\n",
       "      <td>2869.0</td>\n",
       "      <td>-0.014000</td>\n",
       "      <td>0.017069</td>\n",
       "      <td>-0.258819</td>\n",
       "      <td>-0.965926</td>\n",
       "      <td>-0.433884</td>\n",
       "      <td>-0.900969</td>\n",
       "    </tr>\n",
       "    <tr>\n",
       "      <th>2020-08-14 13:02:00</th>\n",
       "      <td>0.066000</td>\n",
       "      <td>0.071002</td>\n",
       "      <td>0.064000</td>\n",
       "      <td>19623360.0</td>\n",
       "      <td>2617.0</td>\n",
       "      <td>0.001685</td>\n",
       "      <td>0.007002</td>\n",
       "      <td>-0.258819</td>\n",
       "      <td>-0.965926</td>\n",
       "      <td>-0.433884</td>\n",
       "      <td>-0.900969</td>\n",
       "    </tr>\n",
       "    <tr>\n",
       "      <th>2020-08-14 13:03:00</th>\n",
       "      <td>0.067685</td>\n",
       "      <td>0.070659</td>\n",
       "      <td>0.066497</td>\n",
       "      <td>14743801.0</td>\n",
       "      <td>2179.0</td>\n",
       "      <td>0.002315</td>\n",
       "      <td>0.004162</td>\n",
       "      <td>-0.258819</td>\n",
       "      <td>-0.965926</td>\n",
       "      <td>-0.433884</td>\n",
       "      <td>-0.900969</td>\n",
       "    </tr>\n",
       "    <tr>\n",
       "      <th>2020-08-14 13:04:00</th>\n",
       "      <td>0.070000</td>\n",
       "      <td>0.073868</td>\n",
       "      <td>0.070000</td>\n",
       "      <td>15576142.0</td>\n",
       "      <td>2055.0</td>\n",
       "      <td>0.001758</td>\n",
       "      <td>0.003868</td>\n",
       "      <td>-0.258819</td>\n",
       "      <td>-0.965926</td>\n",
       "      <td>-0.433884</td>\n",
       "      <td>-0.900969</td>\n",
       "    </tr>\n",
       "  </tbody>\n",
       "</table>\n",
       "</div>"
      ]
     },
     "execution_count": 6,
     "metadata": {},
     "output_type": "execute_result"
    }
   ],
   "execution_count": 6
  },
  {
   "metadata": {},
   "cell_type": "markdown",
   "source": "Копируем данные чтобы избежать ошибок при изменении `df`",
   "id": "1aad0eafc8a47ab6"
  },
  {
   "metadata": {
    "ExecuteTime": {
     "end_time": "2025-05-16T00:16:11.463378Z",
     "start_time": "2025-05-16T00:16:11.421938Z"
    }
   },
   "cell_type": "code",
   "source": "df = df.copy()",
   "id": "efa7c71e7125b12b",
   "outputs": [],
   "execution_count": 7
  },
  {
   "metadata": {},
   "cell_type": "markdown",
   "source": "Проверяем типы колонок",
   "id": "fae61bb70a6f35f4"
  },
  {
   "metadata": {
    "ExecuteTime": {
     "end_time": "2025-05-16T00:16:13.082440Z",
     "start_time": "2025-05-16T00:16:13.079196Z"
    }
   },
   "cell_type": "code",
   "source": "print(df.dtypes)",
   "id": "4d9d97f7196b564a",
   "outputs": [
    {
     "name": "stdout",
     "output_type": "stream",
     "text": [
      "Open                float64\n",
      "High                float64\n",
      "Low                 float64\n",
      "Volume              float64\n",
      "N                   float64\n",
      "open_close_delta    float64\n",
      "high_low_delta      float64\n",
      "sin_hour            float64\n",
      "cos_hour            float64\n",
      "sin_day_of_week     float64\n",
      "cos_day_of_week     float64\n",
      "dtype: object\n"
     ]
    }
   ],
   "execution_count": 8
  },
  {
   "metadata": {},
   "cell_type": "markdown",
   "source": "Данные неравномерные, поэтому заполняем недостающие данные",
   "id": "483156b0e789e814"
  },
  {
   "metadata": {
    "ExecuteTime": {
     "end_time": "2025-05-16T00:16:14.796676Z",
     "start_time": "2025-05-16T00:16:14.614832Z"
    }
   },
   "cell_type": "code",
   "source": [
    "df.index = pd.to_datetime(df.index)\n",
    "df = df.sort_index()\n",
    "df = df.resample('1min').asfreq()\n",
    "df = df.infer_objects(copy=False)\n",
    "\n",
    "# Интерполируем только числовые колонки\n",
    "numeric_cols = df.select_dtypes(include=[\"number\"]).columns\n",
    "df[numeric_cols] = df[numeric_cols].interpolate(method=\"linear\")\n",
    "\n",
    "df[\"datetime\"] = df.index"
   ],
   "id": "bc07ccd1a99ad22e",
   "outputs": [],
   "execution_count": 9
  },
  {
   "metadata": {},
   "cell_type": "markdown",
   "source": "Преобразуем `datetime` в числовой индекс",
   "id": "a92110e1ef47e610"
  },
  {
   "metadata": {
    "ExecuteTime": {
     "end_time": "2025-05-16T00:16:16.357357Z",
     "start_time": "2025-05-16T00:16:16.322527Z"
    }
   },
   "cell_type": "code",
   "source": [
    "df[\"time_idx\"] = (df.index - df.index[0]).total_seconds() // 60\n",
    "df[\"time_idx\"] = df[\"time_idx\"].astype(int)\n",
    "df.head()"
   ],
   "id": "82dc6e8147ea201e",
   "outputs": [
    {
     "data": {
      "text/plain": [
       "                         Open      High       Low      Volume       N  \\\n",
       "datetime                                                                \n",
       "2020-08-14 13:00:00  0.008333  0.094710  0.008333  48759746.0  5422.0   \n",
       "2020-08-14 13:01:00  0.080000  0.080005  0.062936  20299537.0  2869.0   \n",
       "2020-08-14 13:02:00  0.066000  0.071002  0.064000  19623360.0  2617.0   \n",
       "2020-08-14 13:03:00  0.067685  0.070659  0.066497  14743801.0  2179.0   \n",
       "2020-08-14 13:04:00  0.070000  0.073868  0.070000  15576142.0  2055.0   \n",
       "\n",
       "                     open_close_delta  high_low_delta  sin_hour  cos_hour  \\\n",
       "datetime                                                                    \n",
       "2020-08-14 13:00:00          0.071667        0.086377 -0.258819 -0.965926   \n",
       "2020-08-14 13:01:00         -0.014000        0.017069 -0.258819 -0.965926   \n",
       "2020-08-14 13:02:00          0.001685        0.007002 -0.258819 -0.965926   \n",
       "2020-08-14 13:03:00          0.002315        0.004162 -0.258819 -0.965926   \n",
       "2020-08-14 13:04:00          0.001758        0.003868 -0.258819 -0.965926   \n",
       "\n",
       "                     sin_day_of_week  cos_day_of_week            datetime  \\\n",
       "datetime                                                                    \n",
       "2020-08-14 13:00:00        -0.433884        -0.900969 2020-08-14 13:00:00   \n",
       "2020-08-14 13:01:00        -0.433884        -0.900969 2020-08-14 13:01:00   \n",
       "2020-08-14 13:02:00        -0.433884        -0.900969 2020-08-14 13:02:00   \n",
       "2020-08-14 13:03:00        -0.433884        -0.900969 2020-08-14 13:03:00   \n",
       "2020-08-14 13:04:00        -0.433884        -0.900969 2020-08-14 13:04:00   \n",
       "\n",
       "                     time_idx  \n",
       "datetime                       \n",
       "2020-08-14 13:00:00         0  \n",
       "2020-08-14 13:01:00         1  \n",
       "2020-08-14 13:02:00         2  \n",
       "2020-08-14 13:03:00         3  \n",
       "2020-08-14 13:04:00         4  "
      ],
      "text/html": [
       "<div>\n",
       "<style scoped>\n",
       "    .dataframe tbody tr th:only-of-type {\n",
       "        vertical-align: middle;\n",
       "    }\n",
       "\n",
       "    .dataframe tbody tr th {\n",
       "        vertical-align: top;\n",
       "    }\n",
       "\n",
       "    .dataframe thead th {\n",
       "        text-align: right;\n",
       "    }\n",
       "</style>\n",
       "<table border=\"1\" class=\"dataframe\">\n",
       "  <thead>\n",
       "    <tr style=\"text-align: right;\">\n",
       "      <th></th>\n",
       "      <th>Open</th>\n",
       "      <th>High</th>\n",
       "      <th>Low</th>\n",
       "      <th>Volume</th>\n",
       "      <th>N</th>\n",
       "      <th>open_close_delta</th>\n",
       "      <th>high_low_delta</th>\n",
       "      <th>sin_hour</th>\n",
       "      <th>cos_hour</th>\n",
       "      <th>sin_day_of_week</th>\n",
       "      <th>cos_day_of_week</th>\n",
       "      <th>datetime</th>\n",
       "      <th>time_idx</th>\n",
       "    </tr>\n",
       "    <tr>\n",
       "      <th>datetime</th>\n",
       "      <th></th>\n",
       "      <th></th>\n",
       "      <th></th>\n",
       "      <th></th>\n",
       "      <th></th>\n",
       "      <th></th>\n",
       "      <th></th>\n",
       "      <th></th>\n",
       "      <th></th>\n",
       "      <th></th>\n",
       "      <th></th>\n",
       "      <th></th>\n",
       "      <th></th>\n",
       "    </tr>\n",
       "  </thead>\n",
       "  <tbody>\n",
       "    <tr>\n",
       "      <th>2020-08-14 13:00:00</th>\n",
       "      <td>0.008333</td>\n",
       "      <td>0.094710</td>\n",
       "      <td>0.008333</td>\n",
       "      <td>48759746.0</td>\n",
       "      <td>5422.0</td>\n",
       "      <td>0.071667</td>\n",
       "      <td>0.086377</td>\n",
       "      <td>-0.258819</td>\n",
       "      <td>-0.965926</td>\n",
       "      <td>-0.433884</td>\n",
       "      <td>-0.900969</td>\n",
       "      <td>2020-08-14 13:00:00</td>\n",
       "      <td>0</td>\n",
       "    </tr>\n",
       "    <tr>\n",
       "      <th>2020-08-14 13:01:00</th>\n",
       "      <td>0.080000</td>\n",
       "      <td>0.080005</td>\n",
       "      <td>0.062936</td>\n",
       "      <td>20299537.0</td>\n",
       "      <td>2869.0</td>\n",
       "      <td>-0.014000</td>\n",
       "      <td>0.017069</td>\n",
       "      <td>-0.258819</td>\n",
       "      <td>-0.965926</td>\n",
       "      <td>-0.433884</td>\n",
       "      <td>-0.900969</td>\n",
       "      <td>2020-08-14 13:01:00</td>\n",
       "      <td>1</td>\n",
       "    </tr>\n",
       "    <tr>\n",
       "      <th>2020-08-14 13:02:00</th>\n",
       "      <td>0.066000</td>\n",
       "      <td>0.071002</td>\n",
       "      <td>0.064000</td>\n",
       "      <td>19623360.0</td>\n",
       "      <td>2617.0</td>\n",
       "      <td>0.001685</td>\n",
       "      <td>0.007002</td>\n",
       "      <td>-0.258819</td>\n",
       "      <td>-0.965926</td>\n",
       "      <td>-0.433884</td>\n",
       "      <td>-0.900969</td>\n",
       "      <td>2020-08-14 13:02:00</td>\n",
       "      <td>2</td>\n",
       "    </tr>\n",
       "    <tr>\n",
       "      <th>2020-08-14 13:03:00</th>\n",
       "      <td>0.067685</td>\n",
       "      <td>0.070659</td>\n",
       "      <td>0.066497</td>\n",
       "      <td>14743801.0</td>\n",
       "      <td>2179.0</td>\n",
       "      <td>0.002315</td>\n",
       "      <td>0.004162</td>\n",
       "      <td>-0.258819</td>\n",
       "      <td>-0.965926</td>\n",
       "      <td>-0.433884</td>\n",
       "      <td>-0.900969</td>\n",
       "      <td>2020-08-14 13:03:00</td>\n",
       "      <td>3</td>\n",
       "    </tr>\n",
       "    <tr>\n",
       "      <th>2020-08-14 13:04:00</th>\n",
       "      <td>0.070000</td>\n",
       "      <td>0.073868</td>\n",
       "      <td>0.070000</td>\n",
       "      <td>15576142.0</td>\n",
       "      <td>2055.0</td>\n",
       "      <td>0.001758</td>\n",
       "      <td>0.003868</td>\n",
       "      <td>-0.258819</td>\n",
       "      <td>-0.965926</td>\n",
       "      <td>-0.433884</td>\n",
       "      <td>-0.900969</td>\n",
       "      <td>2020-08-14 13:04:00</td>\n",
       "      <td>4</td>\n",
       "    </tr>\n",
       "  </tbody>\n",
       "</table>\n",
       "</div>"
      ]
     },
     "execution_count": 10,
     "metadata": {},
     "output_type": "execute_result"
    }
   ],
   "execution_count": 10
  },
  {
   "metadata": {},
   "cell_type": "markdown",
   "source": "Добавляем метку серии",
   "id": "a857ba429a7b9ab6"
  },
  {
   "metadata": {
    "ExecuteTime": {
     "end_time": "2025-05-16T00:16:18.250817Z",
     "start_time": "2025-05-16T00:16:18.203531Z"
    }
   },
   "cell_type": "code",
   "source": [
    "df[\"series_id\"] = \"SANDUSDT\"\n",
    "df = df.reset_index(drop=True)\n",
    "#df.index = df[\"time_idx\"]\n",
    "type(df.index)"
   ],
   "id": "7fb1cf53b1265dd8",
   "outputs": [
    {
     "data": {
      "text/plain": [
       "pandas.core.indexes.range.RangeIndex"
      ]
     },
     "execution_count": 11,
     "metadata": {},
     "output_type": "execute_result"
    }
   ],
   "execution_count": 11
  },
  {
   "metadata": {},
   "cell_type": "markdown",
   "source": "Проверяем есть ли пустые данные",
   "id": "64cf3acfa1ad5bf9"
  },
  {
   "metadata": {
    "ExecuteTime": {
     "end_time": "2025-05-16T00:16:24.096150Z",
     "start_time": "2025-05-16T00:16:24.045217Z"
    }
   },
   "cell_type": "code",
   "source": "df.isna().sum()",
   "id": "5d4f55b29324f51c",
   "outputs": [
    {
     "data": {
      "text/plain": [
       "Open                0\n",
       "High                0\n",
       "Low                 0\n",
       "Volume              0\n",
       "N                   0\n",
       "open_close_delta    0\n",
       "high_low_delta      0\n",
       "sin_hour            0\n",
       "cos_hour            0\n",
       "sin_day_of_week     0\n",
       "cos_day_of_week     0\n",
       "datetime            0\n",
       "time_idx            0\n",
       "series_id           0\n",
       "dtype: int64"
      ]
     },
     "execution_count": 12,
     "metadata": {},
     "output_type": "execute_result"
    }
   ],
   "execution_count": 12
  },
  {
   "metadata": {},
   "cell_type": "markdown",
   "source": "Конфигурируем параметры",
   "id": "b4d4c14255cf3385"
  },
  {
   "metadata": {
    "ExecuteTime": {
     "end_time": "2025-05-16T00:16:26.087226Z",
     "start_time": "2025-05-16T00:16:26.082414Z"
    }
   },
   "cell_type": "code",
   "source": [
    "max_encoder_length = 60\n",
    "max_prediction_length = 10"
   ],
   "id": "92c3e1509134f23d",
   "outputs": [],
   "execution_count": 13
  },
  {
   "metadata": {},
   "cell_type": "markdown",
   "source": "Подготоваливаем тренировочные данные",
   "id": "24eba91a66b28797"
  },
  {
   "metadata": {
    "ExecuteTime": {
     "end_time": "2025-05-16T00:16:28.049645Z",
     "start_time": "2025-05-16T00:16:28.011136Z"
    }
   },
   "cell_type": "code",
   "source": [
    "# Разделение на train/test\n",
    "train_cutoff = df[\"time_idx\"].max() - max_prediction_length\n",
    "df_train = df[df[\"time_idx\"] <= train_cutoff]\n",
    "\n",
    "# Сбрасываем индексы, т.к. после разделения на тестовые данные он вернулся в обычный Index, вместо RangeIndex ожидаемого TimeSeriesDataSet\n",
    "df_train = df_train.reset_index(drop=True)\n",
    "type(df_train.index)"
   ],
   "id": "a028ef418901186b",
   "outputs": [
    {
     "data": {
      "text/plain": [
       "pandas.core.indexes.range.RangeIndex"
      ]
     },
     "execution_count": 14,
     "metadata": {},
     "output_type": "execute_result"
    }
   ],
   "execution_count": 14
  },
  {
   "metadata": {},
   "cell_type": "markdown",
   "source": "Подготоваливаем данные для проверки",
   "id": "790ce41f53f64b8"
  },
  {
   "metadata": {
    "ExecuteTime": {
     "end_time": "2025-05-16T00:16:30.037730Z",
     "start_time": "2025-05-16T00:16:30.032080Z"
    }
   },
   "cell_type": "code",
   "source": [
    "#df_val = df[df[\"time_idx\"] > train_cutoff] # в таком случае TimeSeriesDataSet не построится и будет ошибка\n",
    "\n",
    "min_val_idx = df[\"time_idx\"].max() - (max_prediction_length + max_encoder_length)\n",
    "df_val = df[df[\"time_idx\"] >= min_val_idx].copy()\n",
    "type(df_train.index)"
   ],
   "id": "102a96e48039bfa5",
   "outputs": [
    {
     "data": {
      "text/plain": [
       "pandas.core.indexes.range.RangeIndex"
      ]
     },
     "execution_count": 15,
     "metadata": {},
     "output_type": "execute_result"
    }
   ],
   "execution_count": 15
  },
  {
   "metadata": {},
   "cell_type": "markdown",
   "source": "Подготавливаем TimeSeriesDataSet",
   "id": "d63d2b7d213e7912"
  },
  {
   "metadata": {
    "ExecuteTime": {
     "end_time": "2025-05-16T00:16:32.464942Z",
     "start_time": "2025-05-16T00:16:31.809520Z"
    }
   },
   "cell_type": "code",
   "source": [
    "from pytorch_forecasting import TimeSeriesDataSet, GroupNormalizer\n",
    "\n",
    "training = TimeSeriesDataSet(\n",
    "    df_train,\n",
    "    time_idx=\"time_idx\",\n",
    "    target=\"Open\",\n",
    "    group_ids=[\"series_id\"],\n",
    "    max_encoder_length=max_encoder_length,\n",
    "    max_prediction_length=max_prediction_length,\n",
    "    static_categoricals=[\"series_id\"],\n",
    "    time_varying_known_reals=[\"time_idx\"],\n",
    "    time_varying_unknown_reals=[\"Open\"],\n",
    "    target_normalizer=GroupNormalizer(groups=[\"series_id\"]),\n",
    "    add_relative_time_idx=True,\n",
    "    add_target_scales=True,\n",
    "    add_encoder_length=True,\n",
    ")\n",
    "\n",
    "# Validation dataset\n",
    "validation = TimeSeriesDataSet.from_dataset(training, df_val)\n",
    "\n",
    "len(training), len(validation)"
   ],
   "id": "477461d66db86332",
   "outputs": [
    {
     "data": {
      "text/plain": [
       "(461875, 2)"
      ]
     },
     "execution_count": 16,
     "metadata": {},
     "output_type": "execute_result"
    }
   ],
   "execution_count": 16
  },
  {
   "metadata": {},
   "cell_type": "markdown",
   "source": "!Доработать: Получается всего 2 окна validation, для теста оставлю так, но нужно больше. Количество данных вроде позволяет",
   "id": "9f2b58af315b855a"
  },
  {
   "metadata": {},
   "cell_type": "markdown",
   "source": "Создаем Dataloader-ы",
   "id": "76887a757374592a"
  },
  {
   "metadata": {
    "ExecuteTime": {
     "end_time": "2025-05-16T00:16:35.493849Z",
     "start_time": "2025-05-16T00:16:35.487347Z"
    }
   },
   "cell_type": "code",
   "source": [
    "train_dataloader = training.to_dataloader(train=True, batch_size=64, num_workers=0)\n",
    "val_dataloader = validation.to_dataloader(train=False, batch_size=64, num_workers=0)"
   ],
   "id": "1dbdea6afa13441f",
   "outputs": [],
   "execution_count": 17
  },
  {
   "metadata": {
    "ExecuteTime": {
     "end_time": "2025-05-16T00:16:37.328340Z",
     "start_time": "2025-05-16T00:16:37.324936Z"
    }
   },
   "cell_type": "code",
   "source": [
    "import torch\n",
    "import pytorch_lightning as pl\n",
    "import pytorch_forecasting as pf\n",
    "\n",
    "print(torch.__version__)     # 2.1.0\n",
    "print(pl.__version__)        # 2.1.3\n",
    "print(pf.__version__)        # 1.3.0"
   ],
   "id": "d4b73780e3484eb0",
   "outputs": [
    {
     "name": "stdout",
     "output_type": "stream",
     "text": [
      "2.1.0\n",
      "2.1.3\n",
      "1.3.0\n"
     ]
    }
   ],
   "execution_count": 18
  },
  {
   "metadata": {},
   "cell_type": "markdown",
   "source": "Создаем модель DeepAR",
   "id": "db932d6298b356b6"
  },
  {
   "metadata": {
    "ExecuteTime": {
     "end_time": "2025-05-16T00:22:51.354185Z",
     "start_time": "2025-05-16T00:22:51.301002Z"
    }
   },
   "cell_type": "code",
   "source": [
    "from pytorch_forecasting.models import DeepAR\n",
    "\n",
    "model = DeepAR.from_dataset(\n",
    "    training,\n",
    "    learning_rate=1e-3,\n",
    "    hidden_size=64,        # размер GRU-состояния\n",
    "    rnn_layers=2,          # количество GRU-слоёв\n",
    "    dropout=0.1,\n",
    ")\n",
    "\n",
    "type(model)"
   ],
   "id": "ab6a221ae336cc94",
   "outputs": [
    {
     "name": "stderr",
     "output_type": "stream",
     "text": [
      "/Users/ilyashulepov/Projects/ml_labs/lab5/.venv/lib/python3.9/site-packages/lightning/pytorch/utilities/parsing.py:209: Attribute 'loss' is an instance of `nn.Module` and is already saved during checkpointing. It is recommended to ignore them using `self.save_hyperparameters(ignore=['loss'])`.\n",
      "/Users/ilyashulepov/Projects/ml_labs/lab5/.venv/lib/python3.9/site-packages/lightning/pytorch/utilities/parsing.py:209: Attribute 'logging_metrics' is an instance of `nn.Module` and is already saved during checkpointing. It is recommended to ignore them using `self.save_hyperparameters(ignore=['logging_metrics'])`.\n"
     ]
    },
    {
     "data": {
      "text/plain": [
       "pytorch_forecasting.models.deepar._deepar.DeepAR"
      ]
     },
     "execution_count": 33,
     "metadata": {},
     "output_type": "execute_result"
    }
   ],
   "execution_count": 33
  },
  {
   "metadata": {
    "ExecuteTime": {
     "end_time": "2025-05-16T00:20:34.813251Z",
     "start_time": "2025-05-16T00:20:34.810691Z"
    }
   },
   "cell_type": "code",
   "source": "print(model.__module__)",
   "id": "14569f7175d69e36",
   "outputs": [
    {
     "name": "stdout",
     "output_type": "stream",
     "text": [
      "pytorch_forecasting.models.deepar._deepar\n"
     ]
    }
   ],
   "execution_count": 27
  },
  {
   "metadata": {
    "ExecuteTime": {
     "end_time": "2025-05-16T00:16:48.701788Z",
     "start_time": "2025-05-16T00:16:48.696322Z"
    }
   },
   "cell_type": "code",
   "source": [
    "from pytorch_lightning import LightningModule\n",
    "isinstance(model, LightningModule) # Должно быть True"
   ],
   "id": "60b54d5a5d4a2bc6",
   "outputs": [
    {
     "data": {
      "text/plain": [
       "False"
      ]
     },
     "execution_count": 22,
     "metadata": {},
     "output_type": "execute_result"
    }
   ],
   "execution_count": 22
  },
  {
   "metadata": {},
   "cell_type": "markdown",
   "source": "Trainer и обучение",
   "id": "6eef61695843429b"
  },
  {
   "metadata": {
    "ExecuteTime": {
     "end_time": "2025-05-16T00:16:43.428852Z",
     "start_time": "2025-05-16T00:16:43.118103Z"
    }
   },
   "cell_type": "code",
   "source": [
    "from pytorch_lightning import Trainer\n",
    "\n",
    "trainer = Trainer(\n",
    "    max_epochs=10,            # или больше\n",
    "    gradient_clip_val=0.1,\n",
    "    accelerator=\"auto\",       # автоматически CPU или GPU\n",
    "    log_every_n_steps=10\n",
    ")\n",
    "\n",
    "trainer.fit(\n",
    "    model,\n",
    "    train_dataloaders=train_dataloader,\n",
    "    val_dataloaders=val_dataloader,\n",
    ")"
   ],
   "id": "11bb7583a8d59a4f",
   "outputs": [
    {
     "name": "stderr",
     "output_type": "stream",
     "text": [
      "GPU available: True (mps), used: True\n",
      "TPU available: False, using: 0 TPU cores\n",
      "IPU available: False, using: 0 IPUs\n",
      "HPU available: False, using: 0 HPUs\n"
     ]
    },
    {
     "ename": "TypeError",
     "evalue": "`model` must be a `LightningModule` or `torch._dynamo.OptimizedModule`, got `DeepAR`",
     "output_type": "error",
     "traceback": [
      "\u001B[0;31m---------------------------------------------------------------------------\u001B[0m",
      "\u001B[0;31mTypeError\u001B[0m                                 Traceback (most recent call last)",
      "Cell \u001B[0;32mIn[21], line 10\u001B[0m\n\u001B[1;32m      1\u001B[0m \u001B[38;5;28;01mfrom\u001B[39;00m\u001B[38;5;250m \u001B[39m\u001B[38;5;21;01mpytorch_lightning\u001B[39;00m\u001B[38;5;250m \u001B[39m\u001B[38;5;28;01mimport\u001B[39;00m Trainer\n\u001B[1;32m      3\u001B[0m trainer \u001B[38;5;241m=\u001B[39m Trainer(\n\u001B[1;32m      4\u001B[0m     max_epochs\u001B[38;5;241m=\u001B[39m\u001B[38;5;241m10\u001B[39m,            \u001B[38;5;66;03m# или больше\u001B[39;00m\n\u001B[1;32m      5\u001B[0m     gradient_clip_val\u001B[38;5;241m=\u001B[39m\u001B[38;5;241m0.1\u001B[39m,\n\u001B[1;32m      6\u001B[0m     accelerator\u001B[38;5;241m=\u001B[39m\u001B[38;5;124m\"\u001B[39m\u001B[38;5;124mauto\u001B[39m\u001B[38;5;124m\"\u001B[39m,       \u001B[38;5;66;03m# автоматически CPU или GPU\u001B[39;00m\n\u001B[1;32m      7\u001B[0m     log_every_n_steps\u001B[38;5;241m=\u001B[39m\u001B[38;5;241m10\u001B[39m\n\u001B[1;32m      8\u001B[0m )\n\u001B[0;32m---> 10\u001B[0m \u001B[43mtrainer\u001B[49m\u001B[38;5;241;43m.\u001B[39;49m\u001B[43mfit\u001B[49m\u001B[43m(\u001B[49m\n\u001B[1;32m     11\u001B[0m \u001B[43m    \u001B[49m\u001B[43mmodel\u001B[49m\u001B[43m,\u001B[49m\n\u001B[1;32m     12\u001B[0m \u001B[43m    \u001B[49m\u001B[43mtrain_dataloaders\u001B[49m\u001B[38;5;241;43m=\u001B[39;49m\u001B[43mtrain_dataloader\u001B[49m\u001B[43m,\u001B[49m\n\u001B[1;32m     13\u001B[0m \u001B[43m    \u001B[49m\u001B[43mval_dataloaders\u001B[49m\u001B[38;5;241;43m=\u001B[39;49m\u001B[43mval_dataloader\u001B[49m\u001B[43m,\u001B[49m\n\u001B[1;32m     14\u001B[0m \u001B[43m)\u001B[49m\n",
      "File \u001B[0;32m~/Projects/ml_labs/lab5/.venv/lib/python3.9/site-packages/pytorch_lightning/trainer/trainer.py:538\u001B[0m, in \u001B[0;36mTrainer.fit\u001B[0;34m(self, model, train_dataloaders, val_dataloaders, datamodule, ckpt_path)\u001B[0m\n\u001B[1;32m    504\u001B[0m \u001B[38;5;28;01mdef\u001B[39;00m\u001B[38;5;250m \u001B[39m\u001B[38;5;21mfit\u001B[39m(\n\u001B[1;32m    505\u001B[0m     \u001B[38;5;28mself\u001B[39m,\n\u001B[1;32m    506\u001B[0m     model: \u001B[38;5;124m\"\u001B[39m\u001B[38;5;124mpl.LightningModule\u001B[39m\u001B[38;5;124m\"\u001B[39m,\n\u001B[0;32m   (...)\u001B[0m\n\u001B[1;32m    510\u001B[0m     ckpt_path: Optional[\u001B[38;5;28mstr\u001B[39m] \u001B[38;5;241m=\u001B[39m \u001B[38;5;28;01mNone\u001B[39;00m,\n\u001B[1;32m    511\u001B[0m ) \u001B[38;5;241m-\u001B[39m\u001B[38;5;241m>\u001B[39m \u001B[38;5;28;01mNone\u001B[39;00m:\n\u001B[1;32m    512\u001B[0m \u001B[38;5;250m    \u001B[39m\u001B[38;5;124mr\u001B[39m\u001B[38;5;124;03m\"\"\"Runs the full optimization routine.\u001B[39;00m\n\u001B[1;32m    513\u001B[0m \n\u001B[1;32m    514\u001B[0m \u001B[38;5;124;03m    Args:\u001B[39;00m\n\u001B[0;32m   (...)\u001B[0m\n\u001B[1;32m    536\u001B[0m \n\u001B[1;32m    537\u001B[0m \u001B[38;5;124;03m    \"\"\"\u001B[39;00m\n\u001B[0;32m--> 538\u001B[0m     model \u001B[38;5;241m=\u001B[39m \u001B[43m_maybe_unwrap_optimized\u001B[49m\u001B[43m(\u001B[49m\u001B[43mmodel\u001B[49m\u001B[43m)\u001B[49m\n\u001B[1;32m    539\u001B[0m     \u001B[38;5;28mself\u001B[39m\u001B[38;5;241m.\u001B[39mstrategy\u001B[38;5;241m.\u001B[39m_lightning_module \u001B[38;5;241m=\u001B[39m model\n\u001B[1;32m    540\u001B[0m     _verify_strategy_supports_compile(model, \u001B[38;5;28mself\u001B[39m\u001B[38;5;241m.\u001B[39mstrategy)\n",
      "File \u001B[0;32m~/Projects/ml_labs/lab5/.venv/lib/python3.9/site-packages/pytorch_lightning/utilities/compile.py:132\u001B[0m, in \u001B[0;36m_maybe_unwrap_optimized\u001B[0;34m(model)\u001B[0m\n\u001B[1;32m    130\u001B[0m     \u001B[38;5;28;01mreturn\u001B[39;00m model\n\u001B[1;32m    131\u001B[0m _check_mixed_imports(model)\n\u001B[0;32m--> 132\u001B[0m \u001B[38;5;28;01mraise\u001B[39;00m \u001B[38;5;167;01mTypeError\u001B[39;00m(\n\u001B[1;32m    133\u001B[0m     \u001B[38;5;124mf\u001B[39m\u001B[38;5;124m\"\u001B[39m\u001B[38;5;124m`model` must be a `LightningModule` or `torch._dynamo.OptimizedModule`, got `\u001B[39m\u001B[38;5;132;01m{\u001B[39;00m\u001B[38;5;28mtype\u001B[39m(model)\u001B[38;5;241m.\u001B[39m\u001B[38;5;18m__qualname__\u001B[39m\u001B[38;5;132;01m}\u001B[39;00m\u001B[38;5;124m`\u001B[39m\u001B[38;5;124m\"\u001B[39m\n\u001B[1;32m    134\u001B[0m )\n",
      "\u001B[0;31mTypeError\u001B[0m: `model` must be a `LightningModule` or `torch._dynamo.OptimizedModule`, got `DeepAR`"
     ]
    }
   ],
   "execution_count": 21
  },
  {
   "metadata": {
    "jupyter": {
     "is_executing": true
    },
    "ExecuteTime": {
     "start_time": "2025-05-16T00:25:13.682394Z"
    }
   },
   "cell_type": "code",
   "source": [
    "import lightning.pytorch as pl\n",
    "\n",
    "trainer = pl.Trainer(\n",
    "    max_epochs=10,            # или больше\n",
    "    gradient_clip_val=0.1,\n",
    "    accelerator=\"auto\",       # автоматически CPU или GPU\n",
    "    log_every_n_steps=10\n",
    ")\n",
    "\n",
    "trainer.fit(\n",
    "    model,\n",
    "    train_dataloaders=train_dataloader,\n",
    "    val_dataloaders=val_dataloader,\n",
    ")"
   ],
   "id": "dc39afbd4b4f5c2d",
   "outputs": [
    {
     "name": "stderr",
     "output_type": "stream",
     "text": [
      "Using default `ModelCheckpoint`. Consider installing `litmodels` package to enable `LitModelCheckpoint` for automatic upload to the Lightning model registry.\n",
      "GPU available: True (mps), used: True\n",
      "TPU available: False, using: 0 TPU cores\n",
      "HPU available: False, using: 0 HPUs\n",
      "\n",
      "  | Name                   | Type                   | Params | Mode \n",
      "--------------------------------------------------------------------------\n",
      "0 | loss                   | NormalDistributionLoss | 0      | train\n",
      "1 | logging_metrics        | ModuleList             | 0      | train\n",
      "2 | embeddings             | MultiEmbedding         | 1      | train\n",
      "3 | rnn                    | LSTM                   | 52.0 K | train\n",
      "4 | distribution_projector | Linear                 | 130    | train\n",
      "--------------------------------------------------------------------------\n",
      "52.1 K    Trainable params\n",
      "0         Non-trainable params\n",
      "52.1 K    Total params\n",
      "0.208     Total estimated model params size (MB)\n",
      "12        Modules in train mode\n",
      "0         Modules in eval mode\n"
     ]
    },
    {
     "data": {
      "text/plain": [
       "Sanity Checking: |          | 0/? [00:00<?, ?it/s]"
      ],
      "application/vnd.jupyter.widget-view+json": {
       "version_major": 2,
       "version_minor": 0,
       "model_id": "dd792a52da0840838b138a9a4298584a"
      }
     },
     "metadata": {},
     "output_type": "display_data"
    },
    {
     "name": "stderr",
     "output_type": "stream",
     "text": [
      "/Users/ilyashulepov/Projects/ml_labs/lab5/.venv/lib/python3.9/site-packages/lightning/pytorch/trainer/connectors/data_connector.py:425: The 'val_dataloader' does not have many workers which may be a bottleneck. Consider increasing the value of the `num_workers` argument` to `num_workers=7` in the `DataLoader` to improve performance.\n",
      "/Users/ilyashulepov/Projects/ml_labs/lab5/.venv/lib/python3.9/site-packages/lightning/pytorch/trainer/connectors/data_connector.py:425: The 'train_dataloader' does not have many workers which may be a bottleneck. Consider increasing the value of the `num_workers` argument` to `num_workers=7` in the `DataLoader` to improve performance.\n"
     ]
    },
    {
     "data": {
      "text/plain": [
       "Training: |          | 0/? [00:00<?, ?it/s]"
      ],
      "application/vnd.jupyter.widget-view+json": {
       "version_major": 2,
       "version_minor": 0,
       "model_id": "e9e31794fd5446ff86bf9b68486b0668"
      }
     },
     "metadata": {},
     "output_type": "display_data"
    },
    {
     "name": "stderr",
     "output_type": "stream",
     "text": [
      "/Users/ilyashulepov/Projects/ml_labs/lab5/.venv/lib/python3.9/site-packages/torch/autograd/__init__.py:251: UserWarning: The operator 'aten::sgn.out' is not currently supported on the MPS backend and will fall back to run on the CPU. This may have performance implications. (Triggered internally at /Users/runner/work/pytorch/pytorch/pytorch/aten/src/ATen/mps/MPSFallback.mm:13.)\n",
      "  Variable._execution_engine.run_backward(  # Calls into the C++ engine to run the backward pass\n"
     ]
    }
   ],
   "execution_count": null
  },
  {
   "metadata": {},
   "cell_type": "markdown",
   "source": "Предсказание",
   "id": "3160f02c7b90adf"
  },
  {
   "metadata": {
    "ExecuteTime": {
     "end_time": "2025-05-15T23:50:26.584773Z",
     "start_time": "2025-05-15T23:50:26.442596Z"
    }
   },
   "cell_type": "code",
   "source": [
    "# Получаем \"raw\" результат с полной инфой\n",
    "raw_predictions, x = model.predict(val_dataloader, mode=\"raw\", return_x=True)"
   ],
   "id": "a1201dc627c01f9",
   "outputs": [
    {
     "ename": "NameError",
     "evalue": "name 'model' is not defined",
     "output_type": "error",
     "traceback": [
      "\u001B[0;31m---------------------------------------------------------------------------\u001B[0m",
      "\u001B[0;31mNameError\u001B[0m                                 Traceback (most recent call last)",
      "Cell \u001B[0;32mIn[2], line 2\u001B[0m\n\u001B[1;32m      1\u001B[0m \u001B[38;5;66;03m# Получаем \"raw\" результат с полной инфой\u001B[39;00m\n\u001B[0;32m----> 2\u001B[0m raw_predictions, x \u001B[38;5;241m=\u001B[39m \u001B[43mmodel\u001B[49m\u001B[38;5;241m.\u001B[39mpredict(val_dataloader, mode\u001B[38;5;241m=\u001B[39m\u001B[38;5;124m\"\u001B[39m\u001B[38;5;124mraw\u001B[39m\u001B[38;5;124m\"\u001B[39m, return_x\u001B[38;5;241m=\u001B[39m\u001B[38;5;28;01mTrue\u001B[39;00m)\n",
      "\u001B[0;31mNameError\u001B[0m: name 'model' is not defined"
     ]
    }
   ],
   "execution_count": 2
  },
  {
   "metadata": {},
   "cell_type": "markdown",
   "source": "Визуализация",
   "id": "f85b47e4192ad2e8"
  },
  {
   "metadata": {},
   "cell_type": "code",
   "outputs": [],
   "execution_count": null,
   "source": [
    "import matplotlib.pyplot as plt\n",
    "\n",
    "idx = 0  # можно перебрать несколько\n",
    "\n",
    "true = x[\"decoder_target\"][idx].detach().cpu().numpy()\n",
    "pred = raw_predictions[\"prediction\"][idx].detach().cpu().numpy()\n",
    "\n",
    "plt.plot(true, label=\"Истинное значение\")\n",
    "plt.plot(pred, label=\"Прогноз\")\n",
    "plt.title(\"Прогноз DeepAR\")\n",
    "plt.legend()\n",
    "plt.show()\n"
   ],
   "id": "1f53c83a1a2e0862"
  }
 ],
 "metadata": {
  "kernelspec": {
   "display_name": "Python 3",
   "language": "python",
   "name": "python3"
  },
  "language_info": {
   "codemirror_mode": {
    "name": "ipython",
    "version": 2
   },
   "file_extension": ".py",
   "mimetype": "text/x-python",
   "name": "python",
   "nbconvert_exporter": "python",
   "pygments_lexer": "ipython2",
   "version": "2.7.6"
  }
 },
 "nbformat": 4,
 "nbformat_minor": 5
}
